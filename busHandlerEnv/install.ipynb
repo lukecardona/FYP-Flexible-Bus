{
 "cells": [
  {
   "cell_type": "code",
   "execution_count": 1,
   "metadata": {},
   "outputs": [],
   "source": [
    "# pip install stable-baselines3\n",
    "# pip install torch torchvision torchaudio"
   ]
  },
  {
   "cell_type": "code",
   "execution_count": 2,
   "metadata": {},
   "outputs": [
    {
     "name": "stdout",
     "output_type": "stream",
     "text": [
      "Obtaining file:///C:/Users/lukec/Documents/Thesis/BusRouting/FYP-Flexible-Bus/busHandlerEnv\n",
      "  Preparing metadata (setup.py): started\n",
      "  Preparing metadata (setup.py): finished with status 'done'\n",
      "Requirement already satisfied: gymnasium==0.29.1 in c:\\users\\lukec\\anaconda3\\envs\\thesis\\lib\\site-packages (from busHandlerPettingZooEnv==0.0.1) (0.29.1)\n",
      "Requirement already satisfied: numpy>=1.21.0 in c:\\users\\lukec\\anaconda3\\envs\\thesis\\lib\\site-packages (from gymnasium==0.29.1->busHandlerPettingZooEnv==0.0.1) (1.26.3)\n",
      "Requirement already satisfied: cloudpickle>=1.2.0 in c:\\users\\lukec\\anaconda3\\envs\\thesis\\lib\\site-packages (from gymnasium==0.29.1->busHandlerPettingZooEnv==0.0.1) (3.0.0)\n",
      "Requirement already satisfied: typing-extensions>=4.3.0 in c:\\users\\lukec\\anaconda3\\envs\\thesis\\lib\\site-packages (from gymnasium==0.29.1->busHandlerPettingZooEnv==0.0.1) (4.9.0)\n",
      "Requirement already satisfied: farama-notifications>=0.0.1 in c:\\users\\lukec\\anaconda3\\envs\\thesis\\lib\\site-packages (from gymnasium==0.29.1->busHandlerPettingZooEnv==0.0.1) (0.0.4)\n",
      "Installing collected packages: busHandlerPettingZooEnv\n",
      "  Attempting uninstall: busHandlerPettingZooEnv\n",
      "    Found existing installation: busHandlerPettingZooEnv 0.0.1\n",
      "    Uninstalling busHandlerPettingZooEnv-0.0.1:\n",
      "      Successfully uninstalled busHandlerPettingZooEnv-0.0.1\n",
      "  Running setup.py develop for busHandlerPettingZooEnv\n",
      "Successfully installed busHandlerPettingZooEnv-0.0.1\n",
      "Note: you may need to restart the kernel to use updated packages.\n"
     ]
    }
   ],
   "source": [
    "pip install -e ."
   ]
  },
  {
   "cell_type": "code",
   "execution_count": 3,
   "metadata": {},
   "outputs": [
    {
     "data": {
      "application/vnd.jupyter.widget-view+json": {
       "model_id": "99808e0d975c4cf9a1f26748b761369a",
       "version_major": 2,
       "version_minor": 0
      },
      "text/plain": [
       "Map(center=[35.908915, 14.442416], controls=(ZoomControl(options=['position', 'zoom_in_text', 'zoom_in_title',…"
      ]
     },
     "metadata": {},
     "output_type": "display_data"
    }
   ],
   "source": [
    "import busHandlerEnv\n",
    "import gymnasium\n",
    "from gymnasium.wrappers import FlattenObservation   \n",
    "\n",
    "env = gymnasium.make('busHandlerEnv/busHandler-v0',render_mode=None)\n",
    "env = FlattenObservation(env)"
   ]
  },
  {
   "cell_type": "code",
   "execution_count": 4,
   "metadata": {},
   "outputs": [],
   "source": [
    "from stable_baselines3 import A2C\n",
    "from stable_baselines3.common.env_checker import check_env\n",
    "\n",
    "# It will check your custom environment and output additional warnings if needed\n",
    "check_env(env)"
   ]
  },
  {
   "cell_type": "code",
   "execution_count": 5,
   "metadata": {},
   "outputs": [],
   "source": [
    "# model = A2C(\"MlpPolicy\", env, verbose=1)\n",
    "# model.learn(total_timesteps=20_000)\n",
    "# model.save(\"a2c_busHandler\")\n",
    "\n",
    "# del model # remove to demonstrate saving and loading"
   ]
  },
  {
   "cell_type": "code",
   "execution_count": 6,
   "metadata": {},
   "outputs": [
    {
     "name": "stderr",
     "output_type": "stream",
     "text": [
      "c:\\Users\\lukec\\anaconda3\\envs\\Thesis\\Lib\\site-packages\\gymnasium\\envs\\registration.py:788: UserWarning: \u001b[33mWARN: The environment is being initialised with render_mode='human' that is not in the possible render_modes ([]).\u001b[0m\n",
      "  logger.warn(\n"
     ]
    },
    {
     "data": {
      "application/vnd.jupyter.widget-view+json": {
       "model_id": "7f268ee751f5428f84b4b1a3e7ae1a76",
       "version_major": 2,
       "version_minor": 0
      },
      "text/plain": [
       "Map(center=[35.908915, 14.442416], controls=(ZoomControl(options=['position', 'zoom_in_text', 'zoom_in_title',…"
      ]
     },
     "metadata": {},
     "output_type": "display_data"
    },
    {
     "name": "stdout",
     "output_type": "stream",
     "text": [
      "[0 3]\n",
      "[0 8]\n",
      "[0 6]\n",
      "[0 8]\n",
      "[0 3]\n",
      "[0 4]\n"
     ]
    },
    {
     "ename": "KeyboardInterrupt",
     "evalue": "",
     "output_type": "error",
     "traceback": [
      "\u001b[1;31m---------------------------------------------------------------------------\u001b[0m",
      "\u001b[1;31mKeyboardInterrupt\u001b[0m                         Traceback (most recent call last)",
      "Cell \u001b[1;32mIn[6], line 11\u001b[0m\n\u001b[0;32m      9\u001b[0m obs, rewards, dones, terminate, info \u001b[38;5;241m=\u001b[39m env\u001b[38;5;241m.\u001b[39mstep(action)\n\u001b[0;32m     10\u001b[0m \u001b[38;5;66;03m#Sleep for 0.5 seconds\u001b[39;00m\n\u001b[1;32m---> 11\u001b[0m \u001b[43mtime\u001b[49m\u001b[38;5;241;43m.\u001b[39;49m\u001b[43msleep\u001b[49m\u001b[43m(\u001b[49m\u001b[38;5;241;43m1\u001b[39;49m\u001b[43m)\u001b[49m\n",
      "\u001b[1;31mKeyboardInterrupt\u001b[0m: "
     ]
    }
   ],
   "source": [
    "import time\n",
    "model = A2C.load(\"a2c_busHandler\")\n",
    "env = gymnasium.make('busHandlerEnv/busHandler-v0',render_mode='human')\n",
    "env = FlattenObservation(env)\n",
    "obs, _ = env.reset()\n",
    "for i in range(60):\n",
    "    action, _states = model.predict(obs)\n",
    "    print(action)\n",
    "    obs, rewards, dones, terminate, info = env.step(action)\n",
    "    #Sleep for 0.5 seconds\n",
    "    time.sleep(1)"
   ]
  }
 ],
 "metadata": {
  "kernelspec": {
   "display_name": "Thesis",
   "language": "python",
   "name": "python3"
  },
  "language_info": {
   "codemirror_mode": {
    "name": "ipython",
    "version": 3
   },
   "file_extension": ".py",
   "mimetype": "text/x-python",
   "name": "python",
   "nbconvert_exporter": "python",
   "pygments_lexer": "ipython3",
   "version": "3.11.7"
  }
 },
 "nbformat": 4,
 "nbformat_minor": 2
}
