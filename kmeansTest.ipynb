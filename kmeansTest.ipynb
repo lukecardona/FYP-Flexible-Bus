{
 "cells": [
  {
   "cell_type": "code",
   "execution_count": 4,
   "metadata": {},
   "outputs": [
    {
     "name": "stdout",
     "output_type": "stream",
     "text": [
      "Collecting scikit-learn\n",
      "  Downloading scikit_learn-1.4.1.post1-cp311-cp311-win_amd64.whl.metadata (11 kB)\n",
      "Requirement already satisfied: numpy<2.0,>=1.19.5 in c:\\users\\lukec\\anaconda3\\envs\\thesis\\lib\\site-packages (from scikit-learn) (1.26.3)\n",
      "Collecting scipy>=1.6.0 (from scikit-learn)\n",
      "  Using cached scipy-1.12.0-cp311-cp311-win_amd64.whl.metadata (60 kB)\n",
      "Collecting joblib>=1.2.0 (from scikit-learn)\n",
      "  Using cached joblib-1.3.2-py3-none-any.whl.metadata (5.4 kB)\n",
      "Collecting threadpoolctl>=2.0.0 (from scikit-learn)\n",
      "  Downloading threadpoolctl-3.3.0-py3-none-any.whl.metadata (13 kB)\n",
      "Downloading scikit_learn-1.4.1.post1-cp311-cp311-win_amd64.whl (10.6 MB)\n",
      "   ---------------------------------------- 0.0/10.6 MB ? eta -:--:--\n",
      "   ---------------------------------------- 0.0/10.6 MB 660.6 kB/s eta 0:00:17\n",
      "    --------------------------------------- 0.2/10.6 MB 2.1 MB/s eta 0:00:05\n",
      "   -- ------------------------------------- 0.7/10.6 MB 5.5 MB/s eta 0:00:02\n",
      "   ------- -------------------------------- 1.9/10.6 MB 11.3 MB/s eta 0:00:01\n",
      "   --------------- ------------------------ 4.1/10.6 MB 18.9 MB/s eta 0:00:01\n",
      "   -------------------------- ------------- 7.1/10.6 MB 26.8 MB/s eta 0:00:01\n",
      "   ------------------------------ --------- 8.0/10.6 MB 25.6 MB/s eta 0:00:01\n",
      "   ---------------------------------------- 10.6/10.6 MB 40.9 MB/s eta 0:00:00\n",
      "Downloading joblib-1.3.2-py3-none-any.whl (302 kB)\n",
      "   ---------------------------------------- 0.0/302.2 kB ? eta -:--:--\n",
      "   --------------------------------------- 302.2/302.2 kB 18.2 MB/s eta 0:00:00\n",
      "Downloading scipy-1.12.0-cp311-cp311-win_amd64.whl (46.2 MB)\n",
      "   ---------------------------------------- 0.0/46.2 MB ? eta -:--:--\n",
      "   -- ------------------------------------- 2.6/46.2 MB 55.8 MB/s eta 0:00:01\n",
      "   ---- ----------------------------------- 5.6/46.2 MB 59.7 MB/s eta 0:00:01\n",
      "   ------- -------------------------------- 8.6/46.2 MB 60.6 MB/s eta 0:00:01\n",
      "   --------- ------------------------------ 11.5/46.2 MB 65.2 MB/s eta 0:00:01\n",
      "   ---------- ----------------------------- 12.3/46.2 MB 59.5 MB/s eta 0:00:01\n",
      "   -------------- ------------------------- 17.0/46.2 MB 59.5 MB/s eta 0:00:01\n",
      "   ---------------- ----------------------- 19.2/46.2 MB 54.7 MB/s eta 0:00:01\n",
      "   ------------------- -------------------- 22.2/46.2 MB 59.5 MB/s eta 0:00:01\n",
      "   --------------------- ------------------ 24.9/46.2 MB 59.5 MB/s eta 0:00:01\n",
      "   ------------------------ --------------- 27.7/46.2 MB 59.5 MB/s eta 0:00:01\n",
      "   -------------------------- ------------- 30.6/46.2 MB 59.5 MB/s eta 0:00:01\n",
      "   ---------------------------- ----------- 33.4/46.2 MB 59.5 MB/s eta 0:00:01\n",
      "   ------------------------------- -------- 36.3/46.2 MB 59.8 MB/s eta 0:00:01\n",
      "   --------------------------------- ------ 39.2/46.2 MB 59.5 MB/s eta 0:00:01\n",
      "   ------------------------------------ --- 42.2/46.2 MB 59.5 MB/s eta 0:00:01\n",
      "   -------------------------------------- - 44.8/46.2 MB 59.5 MB/s eta 0:00:01\n",
      "   ---------------------------------------  46.2/46.2 MB 65.2 MB/s eta 0:00:01\n",
      "   ---------------------------------------- 46.2/46.2 MB 50.1 MB/s eta 0:00:00\n",
      "Downloading threadpoolctl-3.3.0-py3-none-any.whl (17 kB)\n",
      "Installing collected packages: threadpoolctl, scipy, joblib, scikit-learn\n",
      "Successfully installed joblib-1.3.2 scikit-learn-1.4.1.post1 scipy-1.12.0 threadpoolctl-3.3.0\n"
     ]
    }
   ],
   "source": [
    "# !pip install scikit-learn"
   ]
  },
  {
   "cell_type": "code",
   "execution_count": 8,
   "metadata": {},
   "outputs": [
    {
     "data": {
      "text/plain": [
       "<matplotlib.collections.PathCollection at 0x2e057031610>"
      ]
     },
     "execution_count": 8,
     "metadata": {},
     "output_type": "execute_result"
    },
    {
     "data": {
      "image/png": "[encoded data removed]",
      "text/plain": [
       "<Figure size 640x480 with 1 Axes>"
      ]
     },
     "metadata": {},
     "output_type": "display_data"
    }
   ],
   "source": [
    "from sklearn.cluster import KMeans\n",
    "import numpy as np\n",
    "import matplotlib.pyplot as plt\n",
    "import json\n",
    "\n",
    "BUS_STOP_DATA_PATH = \"C:/Users/lukec/Documents/Thesis/BusRouting/FYP-Flexible-Bus/Data/BusStopsMalta/export.json\"\n",
    "f = open(BUS_STOP_DATA_PATH, \"r\",encoding=\"utf-8\")\n",
    "data = json.load(f)\n",
    "elements = data[\"elements\"]\n",
    "\n",
    "longitudes = []\n",
    "latitudes = []\n",
    "for element in elements:\n",
    "    longitudes.append(element[\"lon\"])\n",
    "    latitudes.append(element[\"lat\"])\n",
    "\n",
    "print(len(longitudes))\n",
    "print(len(latitudes))\n",
    "\n",
    "data = list(zip(longitudes, latitudes))\n",
    "kmeans = KMeans(n_clusters=4)\n",
    "kmeans.fit(data)\n",
    "\n",
    "plt.scatter(longitudes, latitudes, c=kmeans.labels_, cmap='rainbow')"
   ]
  }
 ],
 "metadata": {
  "kernelspec": {
   "display_name": "Thesis",
   "language": "python",
   "name": "python3"
  },
  "language_info": {
   "codemirror_mode": {
    "name": "ipython",
    "version": 3
   },
   "file_extension": ".py",
   "mimetype": "text/x-python",
   "name": "python",
   "nbconvert_exporter": "python",
   "pygments_lexer": "ipython3",
   "version": "3.11.7"
  }
 },
 "nbformat": 4,
 "nbformat_minor": 2
}
