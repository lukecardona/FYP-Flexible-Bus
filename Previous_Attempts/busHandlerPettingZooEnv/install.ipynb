{
 "cells": [
  {
   "cell_type": "code",
   "execution_count": 1,
   "metadata": {},
   "outputs": [
    {
     "name": "stdout",
     "output_type": "stream",
     "text": [
      "Requirement already satisfied: tianshou in c:\\users\\lukec\\anaconda3\\envs\\thesis\\lib\\site-packages (0.5.1)\n",
      "Requirement already satisfied: gymnasium>=0.26.0 in c:\\users\\lukec\\anaconda3\\envs\\thesis\\lib\\site-packages (from tianshou) (0.29.1)\n",
      "Requirement already satisfied: tqdm in c:\\users\\lukec\\anaconda3\\envs\\thesis\\lib\\site-packages (from tianshou) (4.66.1)\n",
      "Requirement already satisfied: numpy>1.16.0 in c:\\users\\lukec\\anaconda3\\envs\\thesis\\lib\\site-packages (from tianshou) (1.26.3)\n",
      "Requirement already satisfied: tensorboard>=2.5.0 in c:\\users\\lukec\\anaconda3\\envs\\thesis\\lib\\site-packages (from tianshou) (2.15.1)\n",
      "Requirement already satisfied: torch>=1.4.0 in c:\\users\\lukec\\anaconda3\\envs\\thesis\\lib\\site-packages (from tianshou) (2.2.0)\n",
      "Requirement already satisfied: numba>=0.51.0 in c:\\users\\lukec\\anaconda3\\envs\\thesis\\lib\\site-packages (from tianshou) (0.58.1)\n",
      "Requirement already satisfied: h5py>=2.10.0 in c:\\users\\lukec\\anaconda3\\envs\\thesis\\lib\\site-packages (from tianshou) (3.10.0)\n",
      "Requirement already satisfied: packaging in c:\\users\\lukec\\anaconda3\\envs\\thesis\\lib\\site-packages (from tianshou) (23.2)\n",
      "Requirement already satisfied: pettingzoo>=1.22 in c:\\users\\lukec\\anaconda3\\envs\\thesis\\lib\\site-packages (from tianshou) (1.24.2)\n",
      "Requirement already satisfied: cloudpickle>=1.2.0 in c:\\users\\lukec\\anaconda3\\envs\\thesis\\lib\\site-packages (from gymnasium>=0.26.0->tianshou) (3.0.0)\n",
      "Requirement already satisfied: typing-extensions>=4.3.0 in c:\\users\\lukec\\anaconda3\\envs\\thesis\\lib\\site-packages (from gymnasium>=0.26.0->tianshou) (4.9.0)\n",
      "Requirement already satisfied: farama-notifications>=0.0.1 in c:\\users\\lukec\\anaconda3\\envs\\thesis\\lib\\site-packages (from gymnasium>=0.26.0->tianshou) (0.0.4)\n",
      "Requirement already satisfied: llvmlite<0.42,>=0.41.0dev0 in c:\\users\\lukec\\anaconda3\\envs\\thesis\\lib\\site-packages (from numba>=0.51.0->tianshou) (0.41.1)\n",
      "Requirement already satisfied: absl-py>=0.4 in c:\\users\\lukec\\anaconda3\\envs\\thesis\\lib\\site-packages (from tensorboard>=2.5.0->tianshou) (2.1.0)\n",
      "Requirement already satisfied: grpcio>=1.48.2 in c:\\users\\lukec\\anaconda3\\envs\\thesis\\lib\\site-packages (from tensorboard>=2.5.0->tianshou) (1.60.0)\n",
      "Requirement already satisfied: google-auth<3,>=1.6.3 in c:\\users\\lukec\\anaconda3\\envs\\thesis\\lib\\site-packages (from tensorboard>=2.5.0->tianshou) (2.26.2)\n",
      "Requirement already satisfied: google-auth-oauthlib<2,>=0.5 in c:\\users\\lukec\\anaconda3\\envs\\thesis\\lib\\site-packages (from tensorboard>=2.5.0->tianshou) (1.2.0)\n",
      "Requirement already satisfied: markdown>=2.6.8 in c:\\users\\lukec\\anaconda3\\envs\\thesis\\lib\\site-packages (from tensorboard>=2.5.0->tianshou) (3.5.2)\n",
      "Requirement already satisfied: protobuf<4.24,>=3.19.6 in c:\\users\\lukec\\anaconda3\\envs\\thesis\\lib\\site-packages (from tensorboard>=2.5.0->tianshou) (4.23.4)\n",
      "Requirement already satisfied: requests<3,>=2.21.0 in c:\\users\\lukec\\anaconda3\\envs\\thesis\\lib\\site-packages (from tensorboard>=2.5.0->tianshou) (2.31.0)\n",
      "Requirement already satisfied: setuptools>=41.0.0 in c:\\users\\lukec\\anaconda3\\envs\\thesis\\lib\\site-packages (from tensorboard>=2.5.0->tianshou) (68.2.2)\n",
      "Requirement already satisfied: six>1.9 in c:\\users\\lukec\\anaconda3\\envs\\thesis\\lib\\site-packages (from tensorboard>=2.5.0->tianshou) (1.16.0)\n",
      "Requirement already satisfied: tensorboard-data-server<0.8.0,>=0.7.0 in c:\\users\\lukec\\anaconda3\\envs\\thesis\\lib\\site-packages (from tensorboard>=2.5.0->tianshou) (0.7.2)\n",
      "Requirement already satisfied: werkzeug>=1.0.1 in c:\\users\\lukec\\anaconda3\\envs\\thesis\\lib\\site-packages (from tensorboard>=2.5.0->tianshou) (3.0.1)\n",
      "Requirement already satisfied: filelock in c:\\users\\lukec\\anaconda3\\envs\\thesis\\lib\\site-packages (from torch>=1.4.0->tianshou) (3.13.1)\n",
      "Requirement already satisfied: sympy in c:\\users\\lukec\\anaconda3\\envs\\thesis\\lib\\site-packages (from torch>=1.4.0->tianshou) (1.12)\n",
      "Requirement already satisfied: networkx in c:\\users\\lukec\\anaconda3\\envs\\thesis\\lib\\site-packages (from torch>=1.4.0->tianshou) (3.2.1)\n",
      "Requirement already satisfied: jinja2 in c:\\users\\lukec\\anaconda3\\envs\\thesis\\lib\\site-packages (from torch>=1.4.0->tianshou) (3.1.2)\n",
      "Requirement already satisfied: fsspec in c:\\users\\lukec\\anaconda3\\envs\\thesis\\lib\\site-packages (from torch>=1.4.0->tianshou) (2023.12.2)\n",
      "Requirement already satisfied: colorama in c:\\users\\lukec\\anaconda3\\envs\\thesis\\lib\\site-packages (from tqdm->tianshou) (0.4.6)\n",
      "Requirement already satisfied: cachetools<6.0,>=2.0.0 in c:\\users\\lukec\\anaconda3\\envs\\thesis\\lib\\site-packages (from google-auth<3,>=1.6.3->tensorboard>=2.5.0->tianshou) (5.3.2)\n",
      "Requirement already satisfied: pyasn1-modules>=0.2.1 in c:\\users\\lukec\\anaconda3\\envs\\thesis\\lib\\site-packages (from google-auth<3,>=1.6.3->tensorboard>=2.5.0->tianshou) (0.3.0)\n",
      "Requirement already satisfied: rsa<5,>=3.1.4 in c:\\users\\lukec\\anaconda3\\envs\\thesis\\lib\\site-packages (from google-auth<3,>=1.6.3->tensorboard>=2.5.0->tianshou) (4.9)\n",
      "Requirement already satisfied: requests-oauthlib>=0.7.0 in c:\\users\\lukec\\anaconda3\\envs\\thesis\\lib\\site-packages (from google-auth-oauthlib<2,>=0.5->tensorboard>=2.5.0->tianshou) (1.3.1)\n",
      "Requirement already satisfied: charset-normalizer<4,>=2 in c:\\users\\lukec\\anaconda3\\envs\\thesis\\lib\\site-packages (from requests<3,>=2.21.0->tensorboard>=2.5.0->tianshou) (2.0.4)\n",
      "Requirement already satisfied: idna<4,>=2.5 in c:\\users\\lukec\\anaconda3\\envs\\thesis\\lib\\site-packages (from requests<3,>=2.21.0->tensorboard>=2.5.0->tianshou) (3.4)\n",
      "Requirement already satisfied: urllib3<3,>=1.21.1 in c:\\users\\lukec\\anaconda3\\envs\\thesis\\lib\\site-packages (from requests<3,>=2.21.0->tensorboard>=2.5.0->tianshou) (1.26.18)\n",
      "Requirement already satisfied: certifi>=2017.4.17 in c:\\users\\lukec\\anaconda3\\envs\\thesis\\lib\\site-packages (from requests<3,>=2.21.0->tensorboard>=2.5.0->tianshou) (2023.11.17)\n",
      "Requirement already satisfied: MarkupSafe>=2.1.1 in c:\\users\\lukec\\anaconda3\\envs\\thesis\\lib\\site-packages (from werkzeug>=1.0.1->tensorboard>=2.5.0->tianshou) (2.1.3)\n",
      "Requirement already satisfied: mpmath>=0.19 in c:\\users\\lukec\\anaconda3\\envs\\thesis\\lib\\site-packages (from sympy->torch>=1.4.0->tianshou) (1.3.0)\n",
      "Requirement already satisfied: pyasn1<0.6.0,>=0.4.6 in c:\\users\\lukec\\anaconda3\\envs\\thesis\\lib\\site-packages (from pyasn1-modules>=0.2.1->google-auth<3,>=1.6.3->tensorboard>=2.5.0->tianshou) (0.5.1)\n",
      "Requirement already satisfied: oauthlib>=3.0.0 in c:\\users\\lukec\\anaconda3\\envs\\thesis\\lib\\site-packages (from requests-oauthlib>=0.7.0->google-auth-oauthlib<2,>=0.5->tensorboard>=2.5.0->tianshou) (3.2.2)\n",
      "Note: you may need to restart the kernel to use updated packages.\n"
     ]
    }
   ],
   "source": [
    "# pip install tianshou"
   ]
  },
  {
   "cell_type": "code",
   "execution_count": 1,
   "metadata": {},
   "outputs": [],
   "source": [
    "# !pip install sb3-contrib\n",
    "# pip install stable-baselines3\n",
    "# pip install torch torchvision torchaudio"
   ]
  },
  {
   "cell_type": "code",
   "execution_count": 2,
   "metadata": {},
   "outputs": [
    {
     "name": "stdout",
     "output_type": "stream",
     "text": [
      "Obtaining file:///C:/Users/lukec/Documents/Thesis/BusRouting/FYP-Flexible-Bus/busHandlerPettingZooEnv\n",
      "  Preparing metadata (setup.py): started\n",
      "  Preparing metadata (setup.py): finished with status 'done'\n",
      "Requirement already satisfied: gymnasium==0.29.1 in c:\\users\\lukec\\anaconda3\\envs\\thesis\\lib\\site-packages (from busHandlerEnv==0.0.1) (0.29.1)\n",
      "Requirement already satisfied: numpy>=1.21.0 in c:\\users\\lukec\\anaconda3\\envs\\thesis\\lib\\site-packages (from gymnasium==0.29.1->busHandlerEnv==0.0.1) (1.26.3)\n",
      "Requirement already satisfied: cloudpickle>=1.2.0 in c:\\users\\lukec\\anaconda3\\envs\\thesis\\lib\\site-packages (from gymnasium==0.29.1->busHandlerEnv==0.0.1) (3.0.0)\n",
      "Requirement already satisfied: typing-extensions>=4.3.0 in c:\\users\\lukec\\anaconda3\\envs\\thesis\\lib\\site-packages (from gymnasium==0.29.1->busHandlerEnv==0.0.1) (4.9.0)\n",
      "Requirement already satisfied: farama-notifications>=0.0.1 in c:\\users\\lukec\\anaconda3\\envs\\thesis\\lib\\site-packages (from gymnasium==0.29.1->busHandlerEnv==0.0.1) (0.0.4)\n",
      "Installing collected packages: busHandlerEnv\n",
      "  Attempting uninstall: busHandlerEnv\n",
      "    Found existing installation: busHandlerEnv 0.0.1\n",
      "    Uninstalling busHandlerEnv-0.0.1:\n",
      "      Successfully uninstalled busHandlerEnv-0.0.1\n",
      "  Running setup.py develop for busHandlerEnv\n",
      "Successfully installed busHandlerEnv-0.0.1\n",
      "Note: you may need to restart the kernel to use updated packages.\n"
     ]
    }
   ],
   "source": [
    "pip install -e ."
   ]
  },
  {
   "cell_type": "code",
   "execution_count": 3,
   "metadata": {},
   "outputs": [],
   "source": [
    "# import gymnasium as gym\n",
    "# import gymnasium.spaces as spaces\n",
    "\n",
    "# class CustomFlattenObservation(gym.ObservationWrapper):\n",
    "#     def __init__(self, env: gym.Env):\n",
    "#         super().__init__(env)\n",
    "#         self.observation_space[\"observation_space\"] = spaces.flatten_space(env.observation_space[\"observation_space\"])\n",
    "\n",
    "#     def observation(self, observation):\n",
    "#         return spaces.flatten(self.env.observation_space[\"observation_space\"], observation[\"observation_space\"])"
   ]
  },
  {
   "cell_type": "code",
   "execution_count": 4,
   "metadata": {},
   "outputs": [],
   "source": [
    "import busHandlerEnv\n",
    "import gymnasium"
   ]
  },
  {
   "cell_type": "code",
   "execution_count": 5,
   "metadata": {},
   "outputs": [
    {
     "name": "stdout",
     "output_type": "stream",
     "text": [
      "(10, 2)\n"
     ]
    },
    {
     "ename": "AssertionError",
     "evalue": "action space does not inherit from `gymnasium.spaces.Space`, actual type: <class 'method'>",
     "output_type": "error",
     "traceback": [
      "\u001b[1;31m---------------------------------------------------------------------------\u001b[0m",
      "\u001b[1;31mAssertionError\u001b[0m                            Traceback (most recent call last)",
      "Cell \u001b[1;32mIn[5], line 1\u001b[0m\n\u001b[1;32m----> 1\u001b[0m env \u001b[38;5;241m=\u001b[39m \u001b[43mgymnasium\u001b[49m\u001b[38;5;241;43m.\u001b[39;49m\u001b[43mmake\u001b[49m\u001b[43m(\u001b[49m\u001b[38;5;124;43m'\u001b[39;49m\u001b[38;5;124;43mbusHandlerEnv/busHandler-v0\u001b[39;49m\u001b[38;5;124;43m'\u001b[39;49m\u001b[43m,\u001b[49m\u001b[43mrender_mode\u001b[49m\u001b[38;5;241;43m=\u001b[39;49m\u001b[38;5;28;43;01mNone\u001b[39;49;00m\u001b[43m)\u001b[49m\n",
      "File \u001b[1;32mc:\\Users\\lukec\\anaconda3\\envs\\Thesis\\Lib\\site-packages\\gymnasium\\envs\\registration.py:861\u001b[0m, in \u001b[0;36mmake\u001b[1;34m(id, max_episode_steps, autoreset, apply_api_compatibility, disable_env_checker, **kwargs)\u001b[0m\n\u001b[0;32m    857\u001b[0m \u001b[38;5;66;03m# Run the environment checker as the lowest level wrapper\u001b[39;00m\n\u001b[0;32m    858\u001b[0m \u001b[38;5;28;01mif\u001b[39;00m disable_env_checker \u001b[38;5;129;01mis\u001b[39;00m \u001b[38;5;28;01mFalse\u001b[39;00m \u001b[38;5;129;01mor\u001b[39;00m (\n\u001b[0;32m    859\u001b[0m     disable_env_checker \u001b[38;5;129;01mis\u001b[39;00m \u001b[38;5;28;01mNone\u001b[39;00m \u001b[38;5;129;01mand\u001b[39;00m env_spec\u001b[38;5;241m.\u001b[39mdisable_env_checker \u001b[38;5;129;01mis\u001b[39;00m \u001b[38;5;28;01mFalse\u001b[39;00m\n\u001b[0;32m    860\u001b[0m ):\n\u001b[1;32m--> 861\u001b[0m     env \u001b[38;5;241m=\u001b[39m \u001b[43mgym\u001b[49m\u001b[38;5;241;43m.\u001b[39;49m\u001b[43mwrappers\u001b[49m\u001b[38;5;241;43m.\u001b[39;49m\u001b[43mPassiveEnvChecker\u001b[49m\u001b[43m(\u001b[49m\u001b[43menv\u001b[49m\u001b[43m)\u001b[49m\n\u001b[0;32m    863\u001b[0m \u001b[38;5;66;03m# Add the order enforcing wrapper\u001b[39;00m\n\u001b[0;32m    864\u001b[0m \u001b[38;5;28;01mif\u001b[39;00m env_spec\u001b[38;5;241m.\u001b[39morder_enforce:\n",
      "File \u001b[1;32mc:\\Users\\lukec\\anaconda3\\envs\\Thesis\\Lib\\site-packages\\gymnasium\\wrappers\\env_checker.py:34\u001b[0m, in \u001b[0;36mPassiveEnvChecker.__init__\u001b[1;34m(self, env)\u001b[0m\n\u001b[0;32m     29\u001b[0m gym\u001b[38;5;241m.\u001b[39mWrapper\u001b[38;5;241m.\u001b[39m\u001b[38;5;21m__init__\u001b[39m(\u001b[38;5;28mself\u001b[39m, env)\n\u001b[0;32m     31\u001b[0m \u001b[38;5;28;01massert\u001b[39;00m \u001b[38;5;28mhasattr\u001b[39m(\n\u001b[0;32m     32\u001b[0m     env, \u001b[38;5;124m\"\u001b[39m\u001b[38;5;124maction_space\u001b[39m\u001b[38;5;124m\"\u001b[39m\n\u001b[0;32m     33\u001b[0m ), \u001b[38;5;124m\"\u001b[39m\u001b[38;5;124mThe environment must specify an action space. https://gymnasium.farama.org/tutorials/gymnasium_basics/environment_creation/\u001b[39m\u001b[38;5;124m\"\u001b[39m\n\u001b[1;32m---> 34\u001b[0m \u001b[43mcheck_action_space\u001b[49m\u001b[43m(\u001b[49m\u001b[43menv\u001b[49m\u001b[38;5;241;43m.\u001b[39;49m\u001b[43maction_space\u001b[49m\u001b[43m)\u001b[49m\n\u001b[0;32m     35\u001b[0m \u001b[38;5;28;01massert\u001b[39;00m \u001b[38;5;28mhasattr\u001b[39m(\n\u001b[0;32m     36\u001b[0m     env, \u001b[38;5;124m\"\u001b[39m\u001b[38;5;124mobservation_space\u001b[39m\u001b[38;5;124m\"\u001b[39m\n\u001b[0;32m     37\u001b[0m ), \u001b[38;5;124m\"\u001b[39m\u001b[38;5;124mThe environment must specify an observation space. https://gymnasium.farama.org/tutorials/gymnasium_basics/environment_creation/\u001b[39m\u001b[38;5;124m\"\u001b[39m\n\u001b[0;32m     38\u001b[0m check_observation_space(env\u001b[38;5;241m.\u001b[39mobservation_space)\n",
      "File \u001b[1;32mc:\\Users\\lukec\\anaconda3\\envs\\Thesis\\Lib\\site-packages\\gymnasium\\utils\\passive_env_checker.py:68\u001b[0m, in \u001b[0;36mcheck_space\u001b[1;34m(space, space_type, check_box_space_fn)\u001b[0m\n\u001b[0;32m     66\u001b[0m \u001b[38;5;250m\u001b[39m\u001b[38;5;124;03m\"\"\"A passive check of the environment action space that should not affect the environment.\"\"\"\u001b[39;00m\n\u001b[0;32m     67\u001b[0m \u001b[38;5;28;01mif\u001b[39;00m \u001b[38;5;129;01mnot\u001b[39;00m \u001b[38;5;28misinstance\u001b[39m(space, spaces\u001b[38;5;241m.\u001b[39mSpace):\n\u001b[1;32m---> 68\u001b[0m     \u001b[38;5;28;01mraise\u001b[39;00m \u001b[38;5;167;01mAssertionError\u001b[39;00m(\n\u001b[0;32m     69\u001b[0m         \u001b[38;5;124mf\u001b[39m\u001b[38;5;124m\"\u001b[39m\u001b[38;5;132;01m{\u001b[39;00mspace_type\u001b[38;5;132;01m}\u001b[39;00m\u001b[38;5;124m space does not inherit from `gymnasium.spaces.Space`, actual type: \u001b[39m\u001b[38;5;132;01m{\u001b[39;00m\u001b[38;5;28mtype\u001b[39m(space)\u001b[38;5;132;01m}\u001b[39;00m\u001b[38;5;124m\"\u001b[39m\n\u001b[0;32m     70\u001b[0m     )\n\u001b[0;32m     72\u001b[0m \u001b[38;5;28;01melif\u001b[39;00m \u001b[38;5;28misinstance\u001b[39m(space, spaces\u001b[38;5;241m.\u001b[39mBox):\n\u001b[0;32m     73\u001b[0m     check_box_space_fn(space)\n",
      "\u001b[1;31mAssertionError\u001b[0m: action space does not inherit from `gymnasium.spaces.Space`, actual type: <class 'method'>"
     ]
    }
   ],
   "source": []
  },
  {
   "cell_type": "code",
   "execution_count": null,
   "metadata": {},
   "outputs": [],
   "source": [
    "from stable_baselines3 import A2C\n",
    "from stable_baselines3.common.env_checker import check_env\n",
    "\n",
    "# It will check your custom environment and output additional warnings if needed\n",
    "check_env(env)"
   ]
  },
  {
   "cell_type": "code",
   "execution_count": null,
   "metadata": {},
   "outputs": [
    {
     "name": "stdout",
     "output_type": "stream",
     "text": [
      "Using cpu device\n",
      "Wrapping the env with a `Monitor` wrapper\n",
      "Wrapping the env in a DummyVecEnv.\n"
     ]
    },
    {
     "ename": "RuntimeError",
     "evalue": "shape '[-1, 12]' is invalid for input of size 20",
     "output_type": "error",
     "traceback": [
      "\u001b[1;31m---------------------------------------------------------------------------\u001b[0m",
      "\u001b[1;31mRuntimeError\u001b[0m                              Traceback (most recent call last)",
      "Cell \u001b[1;32mIn[43], line 2\u001b[0m\n\u001b[0;32m      1\u001b[0m model \u001b[38;5;241m=\u001b[39m MaskablePPO(MaskableActorCriticPolicy, env, verbose\u001b[38;5;241m=\u001b[39m\u001b[38;5;241m1\u001b[39m)\n\u001b[1;32m----> 2\u001b[0m \u001b[43mmodel\u001b[49m\u001b[38;5;241;43m.\u001b[39;49m\u001b[43mlearn\u001b[49m\u001b[43m(\u001b[49m\u001b[43mtotal_timesteps\u001b[49m\u001b[38;5;241;43m=\u001b[39;49m\u001b[38;5;241;43m20000\u001b[39;49m\u001b[43m)\u001b[49m\n\u001b[0;32m      3\u001b[0m model\u001b[38;5;241m.\u001b[39msave(\u001b[38;5;124m\"\u001b[39m\u001b[38;5;124mPPO_busHandler\u001b[39m\u001b[38;5;124m\"\u001b[39m)\n\u001b[0;32m      5\u001b[0m \u001b[38;5;28;01mdel\u001b[39;00m model \u001b[38;5;66;03m# remove to demonstrate saving and loading\u001b[39;00m\n",
      "File \u001b[1;32mc:\\Users\\lukec\\anaconda3\\envs\\Thesis\\Lib\\site-packages\\sb3_contrib\\ppo_mask\\ppo_mask.py:526\u001b[0m, in \u001b[0;36mMaskablePPO.learn\u001b[1;34m(self, total_timesteps, callback, log_interval, tb_log_name, reset_num_timesteps, use_masking, progress_bar)\u001b[0m\n\u001b[0;32m    523\u001b[0m callback\u001b[38;5;241m.\u001b[39mon_training_start(\u001b[38;5;28mlocals\u001b[39m(), \u001b[38;5;28mglobals\u001b[39m())\n\u001b[0;32m    525\u001b[0m \u001b[38;5;28;01mwhile\u001b[39;00m \u001b[38;5;28mself\u001b[39m\u001b[38;5;241m.\u001b[39mnum_timesteps \u001b[38;5;241m<\u001b[39m total_timesteps:\n\u001b[1;32m--> 526\u001b[0m     continue_training \u001b[38;5;241m=\u001b[39m \u001b[38;5;28;43mself\u001b[39;49m\u001b[38;5;241;43m.\u001b[39;49m\u001b[43mcollect_rollouts\u001b[49m\u001b[43m(\u001b[49m\u001b[38;5;28;43mself\u001b[39;49m\u001b[38;5;241;43m.\u001b[39;49m\u001b[43menv\u001b[49m\u001b[43m,\u001b[49m\u001b[43m \u001b[49m\u001b[43mcallback\u001b[49m\u001b[43m,\u001b[49m\u001b[43m \u001b[49m\u001b[38;5;28;43mself\u001b[39;49m\u001b[38;5;241;43m.\u001b[39;49m\u001b[43mrollout_buffer\u001b[49m\u001b[43m,\u001b[49m\u001b[43m \u001b[49m\u001b[38;5;28;43mself\u001b[39;49m\u001b[38;5;241;43m.\u001b[39;49m\u001b[43mn_steps\u001b[49m\u001b[43m,\u001b[49m\u001b[43m \u001b[49m\u001b[43muse_masking\u001b[49m\u001b[43m)\u001b[49m\n\u001b[0;32m    528\u001b[0m     \u001b[38;5;28;01mif\u001b[39;00m \u001b[38;5;129;01mnot\u001b[39;00m continue_training:\n\u001b[0;32m    529\u001b[0m         \u001b[38;5;28;01mbreak\u001b[39;00m\n",
      "File \u001b[1;32mc:\\Users\\lukec\\anaconda3\\envs\\Thesis\\Lib\\site-packages\\sb3_contrib\\ppo_mask\\ppo_mask.py:303\u001b[0m, in \u001b[0;36mMaskablePPO.collect_rollouts\u001b[1;34m(self, env, callback, rollout_buffer, n_rollout_steps, use_masking)\u001b[0m\n\u001b[0;32m    300\u001b[0m     \u001b[38;5;28;01mif\u001b[39;00m use_masking:\n\u001b[0;32m    301\u001b[0m         action_masks \u001b[38;5;241m=\u001b[39m get_action_masks(env)\n\u001b[1;32m--> 303\u001b[0m     actions, values, log_probs \u001b[38;5;241m=\u001b[39m \u001b[38;5;28;43mself\u001b[39;49m\u001b[38;5;241;43m.\u001b[39;49m\u001b[43mpolicy\u001b[49m\u001b[43m(\u001b[49m\u001b[43mobs_tensor\u001b[49m\u001b[43m,\u001b[49m\u001b[43m \u001b[49m\u001b[43maction_masks\u001b[49m\u001b[38;5;241;43m=\u001b[39;49m\u001b[43maction_masks\u001b[49m\u001b[43m)\u001b[49m\n\u001b[0;32m    305\u001b[0m actions \u001b[38;5;241m=\u001b[39m actions\u001b[38;5;241m.\u001b[39mcpu()\u001b[38;5;241m.\u001b[39mnumpy()\n\u001b[0;32m    306\u001b[0m new_obs, rewards, dones, infos \u001b[38;5;241m=\u001b[39m env\u001b[38;5;241m.\u001b[39mstep(actions)\n",
      "File \u001b[1;32mc:\\Users\\lukec\\anaconda3\\envs\\Thesis\\Lib\\site-packages\\torch\\nn\\modules\\module.py:1511\u001b[0m, in \u001b[0;36mModule._wrapped_call_impl\u001b[1;34m(self, *args, **kwargs)\u001b[0m\n\u001b[0;32m   1509\u001b[0m     \u001b[38;5;28;01mreturn\u001b[39;00m \u001b[38;5;28mself\u001b[39m\u001b[38;5;241m.\u001b[39m_compiled_call_impl(\u001b[38;5;241m*\u001b[39margs, \u001b[38;5;241m*\u001b[39m\u001b[38;5;241m*\u001b[39mkwargs)  \u001b[38;5;66;03m# type: ignore[misc]\u001b[39;00m\n\u001b[0;32m   1510\u001b[0m \u001b[38;5;28;01melse\u001b[39;00m:\n\u001b[1;32m-> 1511\u001b[0m     \u001b[38;5;28;01mreturn\u001b[39;00m \u001b[38;5;28;43mself\u001b[39;49m\u001b[38;5;241;43m.\u001b[39;49m\u001b[43m_call_impl\u001b[49m\u001b[43m(\u001b[49m\u001b[38;5;241;43m*\u001b[39;49m\u001b[43margs\u001b[49m\u001b[43m,\u001b[49m\u001b[43m \u001b[49m\u001b[38;5;241;43m*\u001b[39;49m\u001b[38;5;241;43m*\u001b[39;49m\u001b[43mkwargs\u001b[49m\u001b[43m)\u001b[49m\n",
      "File \u001b[1;32mc:\\Users\\lukec\\anaconda3\\envs\\Thesis\\Lib\\site-packages\\torch\\nn\\modules\\module.py:1520\u001b[0m, in \u001b[0;36mModule._call_impl\u001b[1;34m(self, *args, **kwargs)\u001b[0m\n\u001b[0;32m   1515\u001b[0m \u001b[38;5;66;03m# If we don't have any hooks, we want to skip the rest of the logic in\u001b[39;00m\n\u001b[0;32m   1516\u001b[0m \u001b[38;5;66;03m# this function, and just call forward.\u001b[39;00m\n\u001b[0;32m   1517\u001b[0m \u001b[38;5;28;01mif\u001b[39;00m \u001b[38;5;129;01mnot\u001b[39;00m (\u001b[38;5;28mself\u001b[39m\u001b[38;5;241m.\u001b[39m_backward_hooks \u001b[38;5;129;01mor\u001b[39;00m \u001b[38;5;28mself\u001b[39m\u001b[38;5;241m.\u001b[39m_backward_pre_hooks \u001b[38;5;129;01mor\u001b[39;00m \u001b[38;5;28mself\u001b[39m\u001b[38;5;241m.\u001b[39m_forward_hooks \u001b[38;5;129;01mor\u001b[39;00m \u001b[38;5;28mself\u001b[39m\u001b[38;5;241m.\u001b[39m_forward_pre_hooks\n\u001b[0;32m   1518\u001b[0m         \u001b[38;5;129;01mor\u001b[39;00m _global_backward_pre_hooks \u001b[38;5;129;01mor\u001b[39;00m _global_backward_hooks\n\u001b[0;32m   1519\u001b[0m         \u001b[38;5;129;01mor\u001b[39;00m _global_forward_hooks \u001b[38;5;129;01mor\u001b[39;00m _global_forward_pre_hooks):\n\u001b[1;32m-> 1520\u001b[0m     \u001b[38;5;28;01mreturn\u001b[39;00m \u001b[43mforward_call\u001b[49m\u001b[43m(\u001b[49m\u001b[38;5;241;43m*\u001b[39;49m\u001b[43margs\u001b[49m\u001b[43m,\u001b[49m\u001b[43m \u001b[49m\u001b[38;5;241;43m*\u001b[39;49m\u001b[38;5;241;43m*\u001b[39;49m\u001b[43mkwargs\u001b[49m\u001b[43m)\u001b[49m\n\u001b[0;32m   1522\u001b[0m \u001b[38;5;28;01mtry\u001b[39;00m:\n\u001b[0;32m   1523\u001b[0m     result \u001b[38;5;241m=\u001b[39m \u001b[38;5;28;01mNone\u001b[39;00m\n",
      "File \u001b[1;32mc:\\Users\\lukec\\anaconda3\\envs\\Thesis\\Lib\\site-packages\\sb3_contrib\\common\\maskable\\policies.py:139\u001b[0m, in \u001b[0;36mMaskableActorCriticPolicy.forward\u001b[1;34m(self, obs, deterministic, action_masks)\u001b[0m\n\u001b[0;32m    137\u001b[0m distribution \u001b[38;5;241m=\u001b[39m \u001b[38;5;28mself\u001b[39m\u001b[38;5;241m.\u001b[39m_get_action_dist_from_latent(latent_pi)\n\u001b[0;32m    138\u001b[0m \u001b[38;5;28;01mif\u001b[39;00m action_masks \u001b[38;5;129;01mis\u001b[39;00m \u001b[38;5;129;01mnot\u001b[39;00m \u001b[38;5;28;01mNone\u001b[39;00m:\n\u001b[1;32m--> 139\u001b[0m     \u001b[43mdistribution\u001b[49m\u001b[38;5;241;43m.\u001b[39;49m\u001b[43mapply_masking\u001b[49m\u001b[43m(\u001b[49m\u001b[43maction_masks\u001b[49m\u001b[43m)\u001b[49m\n\u001b[0;32m    140\u001b[0m actions \u001b[38;5;241m=\u001b[39m distribution\u001b[38;5;241m.\u001b[39mget_actions(deterministic\u001b[38;5;241m=\u001b[39mdeterministic)\n\u001b[0;32m    141\u001b[0m log_prob \u001b[38;5;241m=\u001b[39m distribution\u001b[38;5;241m.\u001b[39mlog_prob(actions)\n",
      "File \u001b[1;32mc:\\Users\\lukec\\anaconda3\\envs\\Thesis\\Lib\\site-packages\\sb3_contrib\\common\\maskable\\distributions.py:240\u001b[0m, in \u001b[0;36mMaskableMultiCategoricalDistribution.apply_masking\u001b[1;34m(self, masks)\u001b[0m\n\u001b[0;32m    237\u001b[0m masks \u001b[38;5;241m=\u001b[39m th\u001b[38;5;241m.\u001b[39mas_tensor(masks)\n\u001b[0;32m    239\u001b[0m \u001b[38;5;66;03m# Restructure shape to align with logits\u001b[39;00m\n\u001b[1;32m--> 240\u001b[0m masks \u001b[38;5;241m=\u001b[39m \u001b[43mmasks\u001b[49m\u001b[38;5;241;43m.\u001b[39;49m\u001b[43mview\u001b[49m\u001b[43m(\u001b[49m\u001b[38;5;241;43m-\u001b[39;49m\u001b[38;5;241;43m1\u001b[39;49m\u001b[43m,\u001b[49m\u001b[43m \u001b[49m\u001b[38;5;28;43msum\u001b[39;49m\u001b[43m(\u001b[49m\u001b[38;5;28;43mself\u001b[39;49m\u001b[38;5;241;43m.\u001b[39;49m\u001b[43maction_dims\u001b[49m\u001b[43m)\u001b[49m\u001b[43m)\u001b[49m\n\u001b[0;32m    242\u001b[0m \u001b[38;5;66;03m# Then split columnwise for each discrete action\u001b[39;00m\n\u001b[0;32m    243\u001b[0m split_masks \u001b[38;5;241m=\u001b[39m th\u001b[38;5;241m.\u001b[39msplit(masks, \u001b[38;5;28mtuple\u001b[39m(\u001b[38;5;28mself\u001b[39m\u001b[38;5;241m.\u001b[39maction_dims), dim\u001b[38;5;241m=\u001b[39m\u001b[38;5;241m1\u001b[39m)\n",
      "\u001b[1;31mRuntimeError\u001b[0m: shape '[-1, 12]' is invalid for input of size 20"
     ]
    }
   ],
   "source": [
    "model = MaskablePPO(MaskableActorCriticPolicy, env, verbose=1)\n",
    "model.learn(total_timesteps=20000)\n",
    "model.save(\"PPO_busHandler\")\n",
    "\n",
    "del model # remove to demonstrate saving and loading"
   ]
  },
  {
   "cell_type": "code",
   "execution_count": null,
   "metadata": {},
   "outputs": [
    {
     "name": "stderr",
     "output_type": "stream",
     "text": [
      "c:\\Users\\lukec\\anaconda3\\envs\\Thesis\\Lib\\site-packages\\gymnasium\\envs\\registration.py:788: UserWarning: \u001b[33mWARN: The environment is being initialised with render_mode='human' that is not in the possible render_modes ([]).\u001b[0m\n",
      "  logger.warn(\n"
     ]
    },
    {
     "data": {
      "application/vnd.jupyter.widget-view+json": {
       "model_id": "e3a2df23020745fc812ae2c018a6cd5d",
       "version_major": 2,
       "version_minor": 0
      },
      "text/plain": [
       "Map(center=[35.908915, 14.442416], controls=(ZoomControl(options=['position', 'zoom_in_text', 'zoom_in_title',…"
      ]
     },
     "metadata": {},
     "output_type": "display_data"
    },
    {
     "name": "stdout",
     "output_type": "stream",
     "text": [
      "[0 7]\n",
      "[0 1]\n",
      "[0 0]\n",
      "[0 4]\n",
      "[0 4]\n",
      "[0 4]\n",
      "[0 0]\n",
      "[0 5]\n",
      "[0 4]\n",
      "[0 5]\n"
     ]
    }
   ],
   "source": [
    "import time\n",
    "model = A2C.load(\"a2c_busHandler\")\n",
    "env = gymnasium.make('busHandlerEnv/busHandler-v0',render_mode='human')\n",
    "env = FlattenObservation(env)\n",
    "obs, _ = env.reset()\n",
    "for i in range(10):\n",
    "    action, _states = model.predict(obs)\n",
    "    print(action)\n",
    "    obs, rewards, dones, terminate, info = env.step(action)\n",
    "    #Sleep for 0.5 seconds\n",
    "    time.sleep(1)"
   ]
  }
 ],
 "metadata": {
  "kernelspec": {
   "display_name": "Thesis",
   "language": "python",
   "name": "python3"
  },
  "language_info": {
   "codemirror_mode": {
    "name": "ipython",
    "version": 3
   },
   "file_extension": ".py",
   "mimetype": "text/x-python",
   "name": "python",
   "nbconvert_exporter": "python",
   "pygments_lexer": "ipython3",
   "version": "3.11.7"
  }
 },
 "nbformat": 4,
 "nbformat_minor": 2
}
