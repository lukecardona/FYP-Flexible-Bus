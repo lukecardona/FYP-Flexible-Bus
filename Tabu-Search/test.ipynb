{
 "cells": [
  {
   "cell_type": "code",
   "execution_count": 1,
   "metadata": {},
   "outputs": [
    {
     "name": "stdout",
     "output_type": "stream",
     "text": [
      "13:30:00\n"
     ]
    }
   ],
   "source": [
    "from datetime import datetime, time, timedelta\n",
    "\n",
    "# Example datetime.time object\n",
    "time_obj = time(12, 30)  # 12:30 PM\n",
    "\n",
    "# Convert to datetime.datetime object (using an arbitrary date)\n",
    "datetime_obj = datetime.combine(datetime.today(), time_obj)\n",
    "\n",
    "# Add seconds (e.g., 3600 seconds for 1 hour)\n",
    "datetime_obj += timedelta(seconds=3600)\n",
    "\n",
    "# Extract the time part\n",
    "new_time_obj = datetime_obj.time()\n",
    "\n",
    "print(new_time_obj)  # This will print the new time with added seconds"
   ]
  }
 ],
 "metadata": {
  "kernelspec": {
   "display_name": "Thesis",
   "language": "python",
   "name": "python3"
  },
  "language_info": {
   "codemirror_mode": {
    "name": "ipython",
    "version": 3
   },
   "file_extension": ".py",
   "mimetype": "text/x-python",
   "name": "python",
   "nbconvert_exporter": "python",
   "pygments_lexer": "ipython3",
   "version": "0.0.0"
  }
 },
 "nbformat": 4,
 "nbformat_minor": 2
}
