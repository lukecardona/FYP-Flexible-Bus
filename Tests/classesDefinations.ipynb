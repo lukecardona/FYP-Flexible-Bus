{
 "cells": [
  {
   "cell_type": "code",
   "execution_count": 271,
   "metadata": {},
   "outputs": [],
   "source": [
    "#Run routeLinkedList.ipynb\n",
    "%run ../routeLinkedList.ipynb"
   ]
  },
  {
   "cell_type": "code",
   "execution_count": 272,
   "metadata": {},
   "outputs": [],
   "source": [
    "%run ../classesDefinations.ipynb"
   ]
  },
  {
   "cell_type": "markdown",
   "metadata": {},
   "source": [
    "<h2>Testing Basic Implementations</h2>"
   ]
  },
  {
   "cell_type": "code",
   "execution_count": 273,
   "metadata": {},
   "outputs": [
    {
     "name": "stdout",
     "output_type": "stream",
     "text": [
      "Request 1:  Request: id: 1, passengerAmount: 2, time: 0, origin: Req_Id: 1, lat: 35.9140339, long: 14.4441213, True, destination: Req_Id: 1, lat: 35.9088368, long: 14.5045232, False,\n",
      "Request 2:  Request: id: 2, passengerAmount: 2, time: 0, origin: Req_Id: 2, lat: 35.8708978, long: 14.5072541, True, destination: Req_Id: 2, lat: 35.8275555, long: 14.4456632, False,\n",
      "Request 3:  Request: id: 3, passengerAmount: 2, time: 0, origin: Req_Id: 3, lat: 35.8273755, long: 14.4457106, True, destination: Req_Id: 3, lat: 35.8914893, long: 14.5040276, False,\n",
      "Request 4:  Request: id: 4, passengerAmount: 2, time: 0, origin: Req_Id: 4, lat: 35.8914893, long: 14.5040276, True, destination: Req_Id: 4, lat: 35.8903241, long: 14.5013868, False,\n"
     ]
    }
   ],
   "source": [
    "#Create 4 requests\n",
    "request1 = Request(1, Cords(35.9140339,14.4441213), Cords(35.9088368,14.5045232),0, 2)\n",
    "request2 = Request(2, Cords(35.8708978,14.5072541), Cords(35.8275555,14.4456632),0, 2)\n",
    "request3 = Request(3, Cords(35.8273755,14.4457106), Cords(35.8914893,14.5040276),0, 2)\n",
    "request4 = Request(4, Cords(35.8914893,14.5040276), Cords(35.8903241,14.5013868),0, 2)\n",
    "\n",
    "print(\"Request 1: \", request1)\n",
    "print(\"Request 2: \", request2)\n",
    "print(\"Request 3: \", request3)\n",
    "print(\"Request 4: \", request4)"
   ]
  },
  {
   "cell_type": "code",
   "execution_count": 274,
   "metadata": {},
   "outputs": [
    {
     "name": "stdout",
     "output_type": "stream",
     "text": [
      "Vehicle 1:  Vehicle: id: 1, currentPassengers: 0, route_size: 0, currentPosition: (lat: 35.8942679,long: 14.5086503)\n",
      "Vehicle 2:  Vehicle: id: 2, currentPassengers: 0, route_size: 0, currentPosition: (lat: 35.8942679,long: 14.5086503)\n"
     ]
    }
   ],
   "source": [
    "#Create 2 vehicles\n",
    "vehicle1 = Vehicle(1,10, Cords(35.8942679,14.5086503))\n",
    "vehicle2 = Vehicle(2,10, Cords(35.8942679,14.5086503))\n",
    "\n",
    "print(\"Vehicle 1: \", vehicle1)\n",
    "print(\"Vehicle 2: \", vehicle2)"
   ]
  },
  {
   "cell_type": "code",
   "execution_count": 275,
   "metadata": {},
   "outputs": [
    {
     "name": "stdout",
     "output_type": "stream",
     "text": [
      "Request id:  1\n",
      "Request id:  2\n",
      "Request id:  3\n",
      "Request id:  4\n"
     ]
    }
   ],
   "source": [
    "#Add requests to vehicles\n",
    "vehicle1.addRequestToRoute(request1)\n",
    "vehicle1.addRequestToRoute(request2)\n",
    "vehicle2.addRequestToRoute(request3)\n",
    "vehicle2.addRequestToRoute(request4)"
   ]
  },
  {
   "cell_type": "code",
   "execution_count": 276,
   "metadata": {},
   "outputs": [
    {
     "name": "stdout",
     "output_type": "stream",
     "text": [
      "Vehile 1 route: {\n",
      "Req Id: 1 -> Req_Id: 1, lat: 35.9140339, long: 14.4441213, True \n",
      "Req Id: 1 -> Req_Id: 1, lat: 35.9088368, long: 14.5045232, False \n",
      "Req Id: 2 -> Req_Id: 2, lat: 35.8708978, long: 14.5072541, True \n",
      "Req Id: 2 -> Req_Id: 2, lat: 35.8275555, long: 14.4456632, False \n",
      "}, idCounter: 2\n",
      "Vehile 2 route: {\n",
      "Req Id: 3 -> Req_Id: 3, lat: 35.8273755, long: 14.4457106, True \n",
      "Req Id: 3 -> Req_Id: 3, lat: 35.8914893, long: 14.5040276, False \n",
      "Req Id: 4 -> Req_Id: 4, lat: 35.8914893, long: 14.5040276, True \n",
      "Req Id: 4 -> Req_Id: 4, lat: 35.8903241, long: 14.5013868, False \n",
      "}, idCounter: 2\n"
     ]
    }
   ],
   "source": [
    "#Print Vehicle one Route\n",
    "vehicle1.printRoute()\n",
    "#Print Vehicle two Route\n",
    "vehicle2.printRoute()"
   ]
  },
  {
   "cell_type": "code",
   "execution_count": 277,
   "metadata": {},
   "outputs": [
    {
     "name": "stdout",
     "output_type": "stream",
     "text": [
      "Vehicle 1 Route Distance: 33453.4m\n",
      "Vehicle 1 Route TIme:  2389.8s\n"
     ]
    }
   ],
   "source": [
    "print (\"Vehicle 1 Route Distance: \"+str(vehicle1.getRouteDistance())+\"m\")\n",
    "print (\"Vehicle 1 Route TIme: \", str(vehicle1.getRouteTime()) + \"s\")"
   ]
  },
  {
   "cell_type": "code",
   "execution_count": 278,
   "metadata": {},
   "outputs": [
    {
     "name": "stdout",
     "output_type": "stream",
     "text": [
      "Vehicle: id: 1, currentPassengers: 4, route_size: 4, currentPosition: (lat: 35.8942679,long: 14.5086503)\n",
      "HereFirst\n",
      "HereSecond\n",
      "2\n",
      "Vehicle: id: 1, currentPassengers: 2, route_size: 2, currentPosition: (lat: 35.9088368,long: 14.5045232)\n",
      "Vehile 1 route: {\n",
      "Req Id: 2 -> Req_Id: 2, lat: 35.8708978, long: 14.5072541, True \n",
      "Req Id: 2 -> Req_Id: 2, lat: 35.8275555, long: 14.4456632, False \n",
      "}, idCounter: 2\n"
     ]
    }
   ],
   "source": [
    "print(vehicle1)\n",
    "vehicle1.arrivedAtNextStop()\n",
    "vehicle1.arrivedAtNextStop()\n",
    "print(vehicle1)\n",
    "vehicle1.printRoute()"
   ]
  },
  {
   "cell_type": "markdown",
   "metadata": {},
   "source": [
    "<h2> Error Handling</h2>"
   ]
  }
 ],
 "metadata": {
  "kernelspec": {
   "display_name": "FYP-EVRPTW",
   "language": "python",
   "name": "python3"
  },
  "language_info": {
   "codemirror_mode": {
    "name": "ipython",
    "version": 3
   },
   "file_extension": ".py",
   "mimetype": "text/x-python",
   "name": "python",
   "nbconvert_exporter": "python",
   "pygments_lexer": "ipython3",
   "version": "3.11.7"
  }
 },
 "nbformat": 4,
 "nbformat_minor": 2
}
