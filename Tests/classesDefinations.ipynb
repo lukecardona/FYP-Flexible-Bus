{
 "cells": [
  {
   "cell_type": "code",
   "execution_count": 1,
   "metadata": {},
   "outputs": [],
   "source": [
    "#Run routeLinkedList.ipynb\n",
    "%run ../routeLinkedList.ipynb"
   ]
  },
  {
   "cell_type": "code",
   "execution_count": 2,
   "metadata": {},
   "outputs": [],
   "source": [
    "%run ../classesDefinations.ipynb"
   ]
  },
  {
   "cell_type": "markdown",
   "metadata": {},
   "source": [
    "<h2>Testing Basic Implementations</h2>"
   ]
  },
  {
   "cell_type": "code",
   "execution_count": 3,
   "metadata": {},
   "outputs": [
    {
     "name": "stdout",
     "output_type": "stream",
     "text": [
      "Request 1:  Request: id: 1958704080976, passengerAmount: 1, origin: lat: 35.9140339,long: 14.4441213, True, destination: lat: 35.9088368,long: 14.5045232, False, time: 0\n",
      "Request 2:  Request: id: 1958703939088, passengerAmount: 2, origin: lat: 35.8708978,long: 14.5072541, True, destination: lat: 35.8275555,long: 14.4456632, False, time: 0\n",
      "Request 3:  Request: id: 1958704029712, passengerAmount: 2, origin: lat: 35.8273755,long: 14.4457106, True, destination: lat: 35.8914893,long: 14.5040276, False, time: 0\n",
      "Request 4:  Request: id: 1958702434704, passengerAmount: 1, origin: lat: 35.8914893,long: 14.5040276, True, destination: lat: 35.890324,long: 14.5013868, False, time: 0\n"
     ]
    }
   ],
   "source": [
    "#Create 4 requests\n",
    "request1 = Request(1, RequestCords(35.9140339,14.4441213, True), RequestCords(35.9088368,14.5045232, False), 0)\n",
    "request2 = Request(2, RequestCords(35.8708978,14.5072541, True), RequestCords(35.8275555,14.4456632, False), 0)\n",
    "request3 = Request(2, RequestCords(35.8273755,14.4457106, True), RequestCords(35.8914893,14.5040276, False), 0)\n",
    "request4 = Request(1, RequestCords(35.8914893,14.5040276, True), RequestCords(35.890324,14.5013868, False), 0)\n",
    "\n",
    "print(\"Request 1: \", request1)\n",
    "print(\"Request 2: \", request2)\n",
    "print(\"Request 3: \", request3)\n",
    "print(\"Request 4: \", request4)"
   ]
  },
  {
   "cell_type": "code",
   "execution_count": 4,
   "metadata": {},
   "outputs": [
    {
     "name": "stdout",
     "output_type": "stream",
     "text": [
      "Vehicle 1:  Vehicle: id: 1958704959056, capacity: 10, currentPosition: lat: 35.8942679,long: 14.5086503, route: 0\n",
      "Vehicle 2:  Vehicle: id: 1958704960080, capacity: 10, currentPosition: lat: 35.8942679,long: 14.5086503, route: 0\n"
     ]
    }
   ],
   "source": [
    "#Create 2 vehicles\n",
    "vehicle1 = Vehicle(10, Cords(35.8942679,14.5086503))\n",
    "vehicle2 = Vehicle(10, Cords(35.8942679,14.5086503))\n",
    "\n",
    "print(\"Vehicle 1: \", vehicle1)\n",
    "print(\"Vehicle 2: \", vehicle2)"
   ]
  },
  {
   "cell_type": "code",
   "execution_count": 5,
   "metadata": {},
   "outputs": [],
   "source": [
    "#Add requests to vehicles\n",
    "vehicle1.addRequestToRoute(request1, 0, 1)\n",
    "vehicle1.addRequestToRoute(request2, 1, 2)\n",
    "vehicle2.addRequestToRoute(request3, 0, 1)\n",
    "vehicle2.addRequestToRoute(request4, 1, 2)"
   ]
  },
  {
   "cell_type": "code",
   "execution_count": 6,
   "metadata": {},
   "outputs": [
    {
     "name": "stdout",
     "output_type": "stream",
     "text": [
      "Req Id 1958704080976 -> lat: 35.9140339,long: 14.4441213, True \n",
      "Req Id 1958703939088 -> lat: 35.8708978,long: 14.5072541, True \n",
      "Req Id 1958703939088 -> lat: 35.8275555,long: 14.4456632, False \n",
      "Req Id 1958704080976 -> lat: 35.9088368,long: 14.5045232, False \n",
      "\n",
      "Req Id 1958704029712 -> lat: 35.8273755,long: 14.4457106, True \n",
      "Req Id 1958702434704 -> lat: 35.8914893,long: 14.5040276, True \n",
      "Req Id 1958702434704 -> lat: 35.890324,long: 14.5013868, False \n",
      "Req Id 1958704029712 -> lat: 35.8914893,long: 14.5040276, False \n",
      "\n"
     ]
    }
   ],
   "source": [
    "#Print Vehicle one Route\n",
    "print(vehicle1.printRoute())\n",
    "#Print Vehicle two Route\n",
    "print(vehicle2.printRoute())"
   ]
  },
  {
   "cell_type": "code",
   "execution_count": 7,
   "metadata": {},
   "outputs": [
    {
     "ename": "AttributeError",
     "evalue": "'RouteLinkedList' object has no attribute 'getHead'",
     "output_type": "error",
     "traceback": [
      "\u001b[1;31m---------------------------------------------------------------------------\u001b[0m",
      "\u001b[1;31mAttributeError\u001b[0m                            Traceback (most recent call last)",
      "Cell \u001b[1;32mIn[7], line 1\u001b[0m\n\u001b[1;32m----> 1\u001b[0m \u001b[38;5;28mprint\u001b[39m (\u001b[38;5;124m\"\u001b[39m\u001b[38;5;124mVehicle 1 Route Distance: \u001b[39m\u001b[38;5;124m\"\u001b[39m, \u001b[43mvehicle1\u001b[49m\u001b[38;5;241;43m.\u001b[39;49m\u001b[43mrouteDistance\u001b[49m\u001b[43m(\u001b[49m\u001b[43m)\u001b[49m)\n",
      "File \u001b[1;32m~\\AppData\\Local\\Temp\\ipykernel_23324\\3589938108.py:50\u001b[0m, in \u001b[0;36mVehicle.routeDistance\u001b[1;34m(self)\u001b[0m\n\u001b[0;32m     49\u001b[0m \u001b[38;5;28;01mdef\u001b[39;00m \u001b[38;5;21mrouteDistance\u001b[39m(\u001b[38;5;28mself\u001b[39m):\n\u001b[1;32m---> 50\u001b[0m     \u001b[38;5;28;01mreturn\u001b[39;00m \u001b[38;5;28;43mself\u001b[39;49m\u001b[38;5;241;43m.\u001b[39;49m\u001b[43mroute\u001b[49m\u001b[38;5;241;43m.\u001b[39;49m\u001b[43mcalculateTotalDistance\u001b[49m\u001b[43m(\u001b[49m\u001b[38;5;28;43mself\u001b[39;49m\u001b[38;5;241;43m.\u001b[39;49m\u001b[43mcurrentPosition\u001b[49m\u001b[43m)\u001b[49m\n",
      "File \u001b[1;32m~\\AppData\\Local\\Temp\\ipykernel_23324\\1594693373.py:30\u001b[0m, in \u001b[0;36mRoutes.calculateTotalDistance\u001b[1;34m(self, vehilePosition)\u001b[0m\n\u001b[0;32m     28\u001b[0m \u001b[38;5;28;01mdef\u001b[39;00m \u001b[38;5;21mcalculateTotalDistance\u001b[39m(\u001b[38;5;28mself\u001b[39m, vehilePosition):\n\u001b[0;32m     29\u001b[0m     \u001b[38;5;66;03m#Check if the routeList is empty\u001b[39;00m\n\u001b[1;32m---> 30\u001b[0m     route \u001b[38;5;241m=\u001b[39m \u001b[38;5;28;43mself\u001b[39;49m\u001b[38;5;241;43m.\u001b[39;49m\u001b[43mrouteList\u001b[49m\u001b[38;5;241;43m.\u001b[39;49m\u001b[43mgetHead\u001b[49m()\n\u001b[0;32m     31\u001b[0m     \u001b[38;5;28;01mif\u001b[39;00m(route \u001b[38;5;241m==\u001b[39m \u001b[38;5;28;01mNone\u001b[39;00m):\n\u001b[0;32m     32\u001b[0m         \u001b[38;5;28mprint\u001b[39m(\u001b[38;5;124m\"\u001b[39m\u001b[38;5;124mTried to calculate the total distance of the routeList, but the routeList was empty\u001b[39m\u001b[38;5;124m\"\u001b[39m)\n",
      "\u001b[1;31mAttributeError\u001b[0m: 'RouteLinkedList' object has no attribute 'getHead'"
     ]
    }
   ],
   "source": [
    "print (\"Vehicle 1 Route Distance: \", vehicle1.routeDistance())"
   ]
  },
  {
   "cell_type": "markdown",
   "metadata": {},
   "source": [
    "<h2> Error Handling</h2>"
   ]
  },
  {
   "cell_type": "code",
   "execution_count": null,
   "metadata": {},
   "outputs": [
    {
     "name": "stdout",
     "output_type": "stream",
     "text": [
      "Tried to add a request to the routeList, but the destination happened before the pickup\n"
     ]
    }
   ],
   "source": [
    "try:\n",
    "    vehicle2.addRequestToRoute(request4, 3, 1)\n",
    "    print(\"Allowing Flawed Request\")\n",
    "except ValueError as e:\n",
    "    print(e)"
   ]
  }
 ],
 "metadata": {
  "kernelspec": {
   "display_name": "FYP-EVRPTW",
   "language": "python",
   "name": "python3"
  },
  "language_info": {
   "codemirror_mode": {
    "name": "ipython",
    "version": 3
   },
   "file_extension": ".py",
   "mimetype": "text/x-python",
   "name": "python",
   "nbconvert_exporter": "python",
   "pygments_lexer": "ipython3",
   "version": "3.11.7"
  }
 },
 "nbformat": 4,
 "nbformat_minor": 2
}
