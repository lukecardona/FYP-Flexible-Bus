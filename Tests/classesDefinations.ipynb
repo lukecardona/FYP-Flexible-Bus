{
 "cells": [
  {
   "cell_type": "code",
   "execution_count": 15,
   "metadata": {},
   "outputs": [],
   "source": [
    "#Run routeLinkedList.ipynb\n",
    "%run ../routeLinkedList.ipynb"
   ]
  },
  {
   "cell_type": "code",
   "execution_count": 16,
   "metadata": {},
   "outputs": [],
   "source": [
    "%run ../classesDefinations.ipynb"
   ]
  },
  {
   "cell_type": "markdown",
   "metadata": {},
   "source": [
    "<h2>Testing Basic Implementations</h2>"
   ]
  },
  {
   "cell_type": "code",
   "execution_count": 17,
   "metadata": {},
   "outputs": [
    {
     "name": "stdout",
     "output_type": "stream",
     "text": [
      "Request 1:  Request: id: 1958712161232, passengerAmount: 1, origin: lat: 35.9140339,long: 14.4441213, True, destination: lat: 35.9088368,long: 14.5045232, False, time: 0\n",
      "Request 2:  Request: id: 1958712156624, passengerAmount: 2, origin: lat: 35.8708978,long: 14.5072541, True, destination: lat: 35.8275555,long: 14.4456632, False, time: 0\n",
      "Request 3:  Request: id: 1958712158928, passengerAmount: 2, origin: lat: 35.8273755,long: 14.4457106, True, destination: lat: 35.8914893,long: 14.5040276, False, time: 0\n",
      "Request 4:  Request: id: 1958712159376, passengerAmount: 1, origin: lat: 35.8914893,long: 14.5040276, True, destination: lat: 35.890324,long: 14.5013868, False, time: 0\n"
     ]
    }
   ],
   "source": [
    "#Create 4 requests\n",
    "request1 = Request(1, RequestCords(35.9140339,14.4441213, True), RequestCords(35.9088368,14.5045232, False), 0)\n",
    "request2 = Request(2, RequestCords(35.8708978,14.5072541, True), RequestCords(35.8275555,14.4456632, False), 0)\n",
    "request3 = Request(2, RequestCords(35.8273755,14.4457106, True), RequestCords(35.8914893,14.5040276, False), 0)\n",
    "request4 = Request(1, RequestCords(35.8914893,14.5040276, True), RequestCords(35.890324,14.5013868, False), 0)\n",
    "\n",
    "print(\"Request 1: \", request1)\n",
    "print(\"Request 2: \", request2)\n",
    "print(\"Request 3: \", request3)\n",
    "print(\"Request 4: \", request4)"
   ]
  },
  {
   "cell_type": "code",
   "execution_count": 18,
   "metadata": {},
   "outputs": [
    {
     "name": "stdout",
     "output_type": "stream",
     "text": [
      "Vehicle 1:  Vehicle: id: 1958712294672, capacity: 10, currentPosition: lat: 35.8942679,long: 14.5086503, route: 0\n",
      "Vehicle 2:  Vehicle: id: 1958712294928, capacity: 10, currentPosition: lat: 35.8942679,long: 14.5086503, route: 0\n"
     ]
    }
   ],
   "source": [
    "#Create 2 vehicles\n",
    "vehicle1 = Vehicle(10, Cords(35.8942679,14.5086503))\n",
    "vehicle2 = Vehicle(10, Cords(35.8942679,14.5086503))\n",
    "\n",
    "print(\"Vehicle 1: \", vehicle1)\n",
    "print(\"Vehicle 2: \", vehicle2)"
   ]
  },
  {
   "cell_type": "code",
   "execution_count": 19,
   "metadata": {},
   "outputs": [],
   "source": [
    "#Add requests to vehicles\n",
    "vehicle1.addRequestToRoute(request1, 0, 1)\n",
    "vehicle1.addRequestToRoute(request2, 1, 2)\n",
    "vehicle2.addRequestToRoute(request3, 0, 1)\n",
    "vehicle2.addRequestToRoute(request4, 1, 2)"
   ]
  },
  {
   "cell_type": "code",
   "execution_count": 20,
   "metadata": {},
   "outputs": [
    {
     "name": "stdout",
     "output_type": "stream",
     "text": [
      "Req Id 1958712161232 -> lat: 35.9140339,long: 14.4441213, True \n",
      "Req Id 1958712156624 -> lat: 35.8708978,long: 14.5072541, True \n",
      "Req Id 1958712156624 -> lat: 35.8275555,long: 14.4456632, False \n",
      "Req Id 1958712161232 -> lat: 35.9088368,long: 14.5045232, False \n",
      "\n",
      "Req Id 1958712158928 -> lat: 35.8273755,long: 14.4457106, True \n",
      "Req Id 1958712159376 -> lat: 35.8914893,long: 14.5040276, True \n",
      "Req Id 1958712159376 -> lat: 35.890324,long: 14.5013868, False \n",
      "Req Id 1958712158928 -> lat: 35.8914893,long: 14.5040276, False \n",
      "\n"
     ]
    }
   ],
   "source": [
    "#Print Vehicle one Route\n",
    "print(vehicle1.printRoute())\n",
    "#Print Vehicle two Route\n",
    "print(vehicle2.printRoute())"
   ]
  },
  {
   "cell_type": "code",
   "execution_count": 21,
   "metadata": {},
   "outputs": [
    {
     "name": "stdout",
     "output_type": "stream",
     "text": [
      "http://localhost:5000/route/v1/driving/14.5086503,35.8942679;14.4441213,35.9140339;14.5072541,35.8708978;14.4456632,35.8275555;14.5045232,35.9088368?overview=false\n",
      "{'code': 'Ok', 'routes': [{'legs': [{'steps': [], 'distance': 8959.4, 'duration': 557.9, 'summary': '', 'weight': 572.3}, {'steps': [], 'distance': 10132.8, 'duration': 708.3, 'summary': '', 'weight': 708.3}, {'steps': [], 'distance': 10040.4, 'duration': 761.6, 'summary': '', 'weight': 761.6}, {'steps': [], 'distance': 14517.2, 'duration': 1072.9, 'summary': '', 'weight': 1072.9}], 'distance': 43649.8, 'duration': 3100.7, 'weight_name': 'routability', 'weight': 3115.1}], 'waypoints': [{'hint': 'PL8AgP___38AAAAAEAAAAEsAAAAwAAAAbH4SPuQkUUDxw3hBaxAjQQAAAAAIAAAAJAAAABgAAAAaAAAAK2LdAOCzIwJqYt0A_LMjAgQAfwmZaEfy', 'distance': 6.482352, 'name': '', 'location': [14.508587, 35.89424]}, {'hint': 'XK8AgHmvAIAAAAAAGwAAACAAAAAAAAAAVhcFPz-wPUKXPmxCAAAAAAAAAAAbAAAAIAAAAAAAAAAaAAAAJWbcAEYBJAJZZtwAMgEkAgIA3wyZaEfy', 'distance': 5.19126, 'name': 'Vjal il-Labour', 'location': [14.444069, 35.914054]}, {'hint': '3QsAgI9sAIAGAAAACQAAAAAAAAAAAAAAyeAfQUNdQ0EAAAAAAAAAAAYAAAAJAAAAAAAAAAAAAAAaAAAANF3dALRYIwL2XN0AslgjAgAALwuZaEfy', 'distance': 5.603486, 'name': 'Triq Ħal Luqa', 'location': [14.507316, 35.8709]}, {'hint': 'AzIAgDQyAIAAAAAAAQAAAAAAAAC6AgAAktikP4YpNz8AAAAA5jiFRAAAAAABAAAAAAAAALoCAAAaAAAANGzcAEevIgJfbNwAZK8iAgAAzwiZaEfy', 'distance': 5.044965, 'name': 'Triq il-Panorama', 'location': [14.44562, 35.827527]}, {'hint': 'sA8AgP___38HAAAAEAAAAIQAAABSAAAA82DhQObs7ECdNepCY9GUQgcAAAAQAAAAhAAAAFIAAAAaAAAATlLdAD_tIwJLUt0A5ewjAggA_xCZaEfy', 'distance': 9.989601, 'name': 'Triq Ix-Xatt', 'location': [14.504526, 35.908927]}]}\n",
      "Distance: 43.649800000000006 km\n",
      "Vehicle 1 Route Distance:  43649.8\n"
     ]
    }
   ],
   "source": [
    "print (\"Vehicle 1 Route Distance: \", vehicle1.routeDistance())"
   ]
  },
  {
   "cell_type": "markdown",
   "metadata": {},
   "source": [
    "<h2> Error Handling</h2>"
   ]
  },
  {
   "cell_type": "code",
   "execution_count": 22,
   "metadata": {},
   "outputs": [
    {
     "name": "stdout",
     "output_type": "stream",
     "text": [
      "Tried to add a request to the routeList, but the destination happened before the pickup\n"
     ]
    }
   ],
   "source": [
    "try:\n",
    "    vehicle2.addRequestToRoute(request4, 3, 1)\n",
    "    print(\"Allowing Flawed Request\")\n",
    "except ValueError as e:\n",
    "    print(e)"
   ]
  }
 ],
 "metadata": {
  "kernelspec": {
   "display_name": "FYP-EVRPTW",
   "language": "python",
   "name": "python3"
  },
  "language_info": {
   "codemirror_mode": {
    "name": "ipython",
    "version": 3
   },
   "file_extension": ".py",
   "mimetype": "text/x-python",
   "name": "python",
   "nbconvert_exporter": "python",
   "pygments_lexer": "ipython3",
   "version": "3.11.7"
  }
 },
 "nbformat": 4,
 "nbformat_minor": 2
}
