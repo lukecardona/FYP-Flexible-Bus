{
 "cells": [
  {
   "cell_type": "code",
   "execution_count": 77,
   "metadata": {},
   "outputs": [],
   "source": [
    "#Run routeLinkedList.ipynb\n",
    "%run routeLinkedList.ipynb"
   ]
  },
  {
   "cell_type": "code",
   "execution_count": 78,
   "metadata": {},
   "outputs": [],
   "source": [
    "REQUESTSTATES = {\n",
    "    \"WAITING\":0,\n",
    "    \"SCHEDULED\":1,\n",
    "    \"ONGOING\":2,\n",
    "    \"PREDICTED\":3,\n",
    "    \"COMPLETED\":4,\n",
    "    \"REJECTED\":5\n",
    "    }\n",
    "\n",
    "VEHICLESTATES = {\n",
    "    \"IDLE\":0,\n",
    "    \"MOVING\":1,\n",
    "    \"MOVINGFULL\":2\n",
    "}"
   ]
  },
  {
   "cell_type": "code",
   "execution_count": 79,
   "metadata": {},
   "outputs": [],
   "source": [
    "class RequestCords:\n",
    "    def __init__(self, latidude, longitude, start):\n",
    "        self.latidude = latidude\n",
    "        self.longitude = longitude\n",
    "        self.start = start\n",
    "\n",
    "    def __str__(self):\n",
    "        return \"lat: \"+ str(self.latidude) + \",long: \" + str(self.longitude) + \", \" + str(self.start)"
   ]
  },
  {
   "cell_type": "code",
   "execution_count": 80,
   "metadata": {},
   "outputs": [],
   "source": [
    "class Request:\n",
    "    def __init__(self, passengerAmount, origin, destination, time):\n",
    "        self.request_id = id(self)\n",
    "        self.passengerAmount = passengerAmount\n",
    "        self.origin = origin\n",
    "        self.destination = destination\n",
    "        self.timeOfRequest = time\n",
    "\n",
    "    def __str__(self):\n",
    "        return \"Request: id: {}, passengerAmount: {}, origin: {}, destination: {}, time: {}\".format(self.request_id, self.passengerAmount, self.origin, self.destination, self.timeOfRequest)\n",
    "    \n",
    "    def __repr__(self):\n",
    "        return self.__str__()\n",
    "    \n",
    "    def __eq__(self, other):\n",
    "        return self.request_id == other.request_id\n",
    "    \n",
    "    #Change state of request\n",
    "    def changeState(self, state):\n",
    "        self.state = REQUESTSTATES[state]\n",
    "\n",
    "    #Getters\n",
    "    def getId(self):\n",
    "        return self.request_id\n",
    "    \n",
    "    def getPassengerAmount(self):\n",
    "        return self.passengerAmount\n",
    "    \n",
    "    def getOrigin(self):\n",
    "        return self.origin\n",
    "    \n",
    "    def getDestination(self):\n",
    "        return self.destination\n",
    "    \n",
    "    def getTime(self):\n",
    "        return self.timeOfRequest\n",
    "    \n",
    "    def getState(self):\n",
    "        return self.state"
   ]
  },
  {
   "cell_type": "code",
   "execution_count": 81,
   "metadata": {},
   "outputs": [],
   "source": [
    "class Routes:\n",
    "    def __init__(self):\n",
    "        self.routeList = RouteLinkedList()\n",
    "\n",
    "    def handleAddRequest(self, request, indexOrigin, indexDestination):\n",
    "        self.routeList.insertAtIndex(request.origin, request.request_id, indexOrigin)\n",
    "        self.routeList.insertAtIndex(request.destination, request.request_id, indexDestination)\n",
    "\n",
    "    def handleNextArrival(self):\n",
    "        cordPoint = self.routeList.deleteAtStart()\n",
    "        if cordPoint == None:\n",
    "            print(\"Tried to handle an arrival of a request, but there were no requests in the routeList\")\n",
    "            return None\n",
    "        else:\n",
    "            return cordPoint    \n",
    "    \n",
    "    def __str__(self):\n",
    "        return str(self.routeList)\n",
    "\n",
    "    def __repr__(self):\n",
    "        return self.__str__()\n",
    "    \n",
    "    def getSize(self):\n",
    "        return self.routeList.getSize()"
   ]
  },
  {
   "cell_type": "code",
   "execution_count": 82,
   "metadata": {},
   "outputs": [],
   "source": [
    "class Vehicle:\n",
    "    def __init__(self, capacity, origin):\n",
    "        self.vehicle_id = id(self)\n",
    "        self.capacity = capacity\n",
    "        self.currentAmountOfPassengers = 0\n",
    "        self.currentPosition = origin\n",
    "        self.state = VEHICLESTATES[\"IDLE\"]\n",
    "        self.route = Routes()\n",
    "        self.onGoingRequestList = {}\n",
    "        self.completedRequestList = {}\n",
    "\n",
    "    def __str__(self):\n",
    "        return \"Vehicle: id: {}, capacity: {}, currentPosition: {}, route: {}\".format(self.vehicle_id, self.capacity, self.currentPosition, self.route.getSize())\n",
    "    \n",
    "    def __repr__(self):\n",
    "        return self.__str__()\n",
    "    \n",
    "    def __eq__(self, other):\n",
    "        return self.vehicle_id == other.vehicle_id\n",
    "    \n",
    "    def addRequestToRoute(self, request, indexOrigin, indexDestination):\n",
    "    \n",
    "        #Check Passengers Limit\n",
    "        if request.getPassengerAmount() + self.currentAmountOfPassengers > self.capacity:\n",
    "            print(\"Request exceeds capacity of vehicle\")\n",
    "        else:\n",
    "            #If vehicle has space add request to the route at the specified indexes\n",
    "            self.route.handleAddRequest(request, indexOrigin, indexDestination)\n",
    "            request.changeState(\"SCHEDULED\")\n",
    "            self.onGoingRequestList[request.getId()] = request\n",
    "            self.currentAmountOfPassengers += request.getPassengerAmount()\n",
    "    \n",
    "    def arrivedAtNextStop(self):\n",
    "        cordPoint = self.route.handleNextArrival()\n",
    "        if not cordPoint.cords.start:\n",
    "            #Meaning a request has been completed\n",
    "            completedRequest = self.onGoingRequestList[cordPoint.requestId]\n",
    "            self.currentPosition = cordPoint.cords\n",
    "            self.currentAmountOfPassengers -= completedRequest.getPassengerAmount()\n",
    "        else:\n",
    "            #Meaning a request has been picked up\n",
    "            self.onGoingRequestList[cordPoint.requestId].changeState(\"ONGOING\")\n",
    "            self.currentPosition = cordPoint.cords\n",
    "\n",
    "    def adjustRoutes():\n",
    "        #Need to be implemented that will allow adjustment of routes occuring to the new requests\n",
    "        pass\n",
    "\n",
    "\n",
    "    def printRoute(self):\n",
    "        return self.route"
   ]
  },
  {
   "cell_type": "markdown",
   "metadata": {},
   "source": [
    "<h2>Testing Basic Implementations</h2>"
   ]
  },
  {
   "cell_type": "code",
   "execution_count": 83,
   "metadata": {},
   "outputs": [
    {
     "name": "stdout",
     "output_type": "stream",
     "text": [
      "Request 1:  Request: id: 2359427953184, passengerAmount: 1, origin: lat: 1,long: 1, True, destination: lat: 2,long: 2, False, time: 0\n",
      "Request 2:  Request: id: 2359427946800, passengerAmount: 2, origin: lat: 2,long: 2, True, destination: lat: 3,long: 3, False, time: 0\n",
      "Request 3:  Request: id: 2359427950400, passengerAmount: 2, origin: lat: 3,long: 3, True, destination: lat: 4,long: 4, False, time: 0\n",
      "Request 4:  Request: id: 2359427948336, passengerAmount: 1, origin: lat: 4,long: 4, True, destination: lat: 5,long: 5, False, time: 0\n"
     ]
    }
   ],
   "source": [
    "#Create 4 requests\n",
    "request1 = Request(1, RequestCords(1,1, True), RequestCords(2,2, False), 0)\n",
    "request2 = Request(2, RequestCords(2,2, True), RequestCords(3,3, False), 0)\n",
    "request3 = Request(2, RequestCords(3,3, True), RequestCords(4,4, False), 0)\n",
    "request4 = Request(1, RequestCords(4,4, True), RequestCords(5,5, False), 0)\n",
    "\n",
    "print(\"Request 1: \", request1)\n",
    "print(\"Request 2: \", request2)\n",
    "print(\"Request 3: \", request3)\n",
    "print(\"Request 4: \", request4)"
   ]
  },
  {
   "cell_type": "code",
   "execution_count": 84,
   "metadata": {},
   "outputs": [
    {
     "name": "stdout",
     "output_type": "stream",
     "text": [
      "Vehicle 1:  Vehicle: id: 2359428398528, capacity: 4, currentPosition: lat: 10,long: 10, False, route: 0\n",
      "Vehicle 2:  Vehicle: id: 2359428399056, capacity: 4, currentPosition: lat: 10,long: 10, False, route: 0\n"
     ]
    }
   ],
   "source": [
    "#Create 2 vehicles\n",
    "vehicle1 = Vehicle(4, RequestCords(10,10, False))\n",
    "vehicle2 = Vehicle(4, RequestCords(10,10, False))\n",
    "\n",
    "print(\"Vehicle 1: \", vehicle1)\n",
    "print(\"Vehicle 2: \", vehicle2)"
   ]
  },
  {
   "cell_type": "code",
   "execution_count": 85,
   "metadata": {},
   "outputs": [],
   "source": [
    "#Add requests to vehicles\n",
    "vehicle1.addRequestToRoute(request1, 0, 1)\n",
    "vehicle1.addRequestToRoute(request2, 1, 2)\n",
    "vehicle2.addRequestToRoute(request3, 0, 1)\n",
    "vehicle2.addRequestToRoute(request4, 1, 2)"
   ]
  },
  {
   "cell_type": "code",
   "execution_count": 86,
   "metadata": {},
   "outputs": [
    {
     "name": "stdout",
     "output_type": "stream",
     "text": [
      "Req Id 2359427953184 -> lat: 1,long: 1, True \n",
      "Req Id 2359427946800 -> lat: 2,long: 2, True \n",
      "Req Id 2359427946800 -> lat: 3,long: 3, False \n",
      "Req Id 2359427953184 -> lat: 2,long: 2, False \n",
      "\n",
      "Req Id 2359427950400 -> lat: 3,long: 3, True \n",
      "Req Id 2359427948336 -> lat: 4,long: 4, True \n",
      "Req Id 2359427948336 -> lat: 5,long: 5, False \n",
      "Req Id 2359427950400 -> lat: 4,long: 4, False \n",
      "\n"
     ]
    }
   ],
   "source": [
    "#Print Vehicle one Route\n",
    "print(vehicle1.printRoute())\n",
    "#Print Vehicle two Route\n",
    "print(vehicle2.printRoute())"
   ]
  }
 ],
 "metadata": {
  "kernelspec": {
   "display_name": "FYP-EVRPTW",
   "language": "python",
   "name": "python3"
  },
  "language_info": {
   "codemirror_mode": {
    "name": "ipython",
    "version": 3
   },
   "file_extension": ".py",
   "mimetype": "text/x-python",
   "name": "python",
   "nbconvert_exporter": "python",
   "pygments_lexer": "ipython3",
   "version": "3.10.13"
  }
 },
 "nbformat": 4,
 "nbformat_minor": 2
}
