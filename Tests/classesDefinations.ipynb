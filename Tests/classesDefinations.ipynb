{
 "cells": [
  {
   "cell_type": "code",
   "execution_count": 9,
   "metadata": {},
   "outputs": [],
   "source": [
    "#Run routeLinkedList.ipynb\n",
    "%run ../routeLinkedList.ipynb"
   ]
  },
  {
   "cell_type": "code",
   "execution_count": 10,
   "metadata": {},
   "outputs": [],
   "source": [
    "%run ../classesDefinations.ipynb"
   ]
  },
  {
   "cell_type": "markdown",
   "metadata": {},
   "source": [
    "<h2>Testing Basic Implementations</h2>"
   ]
  },
  {
   "cell_type": "code",
   "execution_count": 11,
   "metadata": {},
   "outputs": [
    {
     "name": "stdout",
     "output_type": "stream",
     "text": [
      "Request 1:  Request: id: 2601515957696, passengerAmount: 1, origin: lat: 1,long: 1, True, destination: lat: 2,long: 2, False, time: 0\n",
      "Request 2:  Request: id: 2601515954288, passengerAmount: 2, origin: lat: 2,long: 2, True, destination: lat: 3,long: 3, False, time: 0\n",
      "Request 3:  Request: id: 2601515957792, passengerAmount: 2, origin: lat: 3,long: 3, True, destination: lat: 4,long: 4, False, time: 0\n",
      "Request 4:  Request: id: 2601515954240, passengerAmount: 1, origin: lat: 4,long: 4, True, destination: lat: 5,long: 5, False, time: 0\n"
     ]
    }
   ],
   "source": [
    "#Create 4 requests\n",
    "request1 = Request(1, RequestCords(1,1, True), RequestCords(2,2, False), 0)\n",
    "request2 = Request(2, RequestCords(2,2, True), RequestCords(3,3, False), 0)\n",
    "request3 = Request(2, RequestCords(3,3, True), RequestCords(4,4, False), 0)\n",
    "request4 = Request(1, RequestCords(4,4, True), RequestCords(5,5, False), 0)\n",
    "\n",
    "print(\"Request 1: \", request1)\n",
    "print(\"Request 2: \", request2)\n",
    "print(\"Request 3: \", request3)\n",
    "print(\"Request 4: \", request4)"
   ]
  },
  {
   "cell_type": "code",
   "execution_count": 12,
   "metadata": {},
   "outputs": [
    {
     "name": "stdout",
     "output_type": "stream",
     "text": [
      "Vehicle 1:  Vehicle: id: 2601516922432, capacity: 4, currentPosition: lat: 10,long: 10, False, route: 0\n",
      "Vehicle 2:  Vehicle: id: 2601516920464, capacity: 4, currentPosition: lat: 10,long: 10, False, route: 0\n"
     ]
    }
   ],
   "source": [
    "#Create 2 vehicles\n",
    "vehicle1 = Vehicle(4, RequestCords(10,10, False))\n",
    "vehicle2 = Vehicle(4, RequestCords(10,10, False))\n",
    "\n",
    "print(\"Vehicle 1: \", vehicle1)\n",
    "print(\"Vehicle 2: \", vehicle2)"
   ]
  },
  {
   "cell_type": "code",
   "execution_count": 13,
   "metadata": {},
   "outputs": [],
   "source": [
    "#Add requests to vehicles\n",
    "vehicle1.addRequestToRoute(request1, 0, 1)\n",
    "vehicle1.addRequestToRoute(request2, 1, 2)\n",
    "vehicle2.addRequestToRoute(request3, 0, 1)\n",
    "vehicle2.addRequestToRoute(request4, 1, 2)"
   ]
  },
  {
   "cell_type": "code",
   "execution_count": 14,
   "metadata": {},
   "outputs": [
    {
     "name": "stdout",
     "output_type": "stream",
     "text": [
      "Req Id 2601515957696 -> lat: 1,long: 1, True \n",
      "Req Id 2601515954288 -> lat: 2,long: 2, True \n",
      "Req Id 2601515954288 -> lat: 3,long: 3, False \n",
      "Req Id 2601515957696 -> lat: 2,long: 2, False \n",
      "\n",
      "Req Id 2601515957792 -> lat: 3,long: 3, True \n",
      "Req Id 2601515954240 -> lat: 4,long: 4, True \n",
      "Req Id 2601515954240 -> lat: 5,long: 5, False \n",
      "Req Id 2601515957792 -> lat: 4,long: 4, False \n",
      "\n"
     ]
    }
   ],
   "source": [
    "#Print Vehicle one Route\n",
    "print(vehicle1.printRoute())\n",
    "#Print Vehicle two Route\n",
    "print(vehicle2.printRoute())"
   ]
  },
  {
   "cell_type": "code",
   "execution_count": null,
   "metadata": {},
   "outputs": [],
   "source": []
  },
  {
   "cell_type": "markdown",
   "metadata": {},
   "source": [
    "<h2> Error Handling</h2>"
   ]
  },
  {
   "cell_type": "code",
   "execution_count": 15,
   "metadata": {},
   "outputs": [
    {
     "name": "stdout",
     "output_type": "stream",
     "text": [
      "Tried to add a request to the routeList, but the destination happened before the pickup\n"
     ]
    }
   ],
   "source": [
    "try:\n",
    "    vehicle2.addRequestToRoute(request4, 3, 1)\n",
    "    print(\"Allowing Flawed Request\")\n",
    "except ValueError as e:\n",
    "    print(e)"
   ]
  }
 ],
 "metadata": {
  "kernelspec": {
   "display_name": "FYP-EVRPTW",
   "language": "python",
   "name": "python3"
  },
  "language_info": {
   "codemirror_mode": {
    "name": "ipython",
    "version": 3
   },
   "file_extension": ".py",
   "mimetype": "text/x-python",
   "name": "python",
   "nbconvert_exporter": "python",
   "pygments_lexer": "ipython3",
   "version": "3.10.13"
  }
 },
 "nbformat": 4,
 "nbformat_minor": 2
}
