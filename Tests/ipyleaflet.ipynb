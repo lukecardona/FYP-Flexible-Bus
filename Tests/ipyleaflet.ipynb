{
 "cells": [
  {
   "cell_type": "code",
   "execution_count": 27,
   "metadata": {},
   "outputs": [
    {
     "data": {
      "application/vnd.jupyter.widget-view+json": {
       "model_id": "e7b8bc1864154c54b867541d5bd03ce2",
       "version_major": 2,
       "version_minor": 0
      },
      "text/plain": [
       "Map(center=[35.892736, 14.450925], controls=(ZoomControl(options=['position', 'zoom_in_text', 'zoom_in_title',…"
      ]
     },
     "metadata": {},
     "output_type": "display_data"
    }
   ],
   "source": [
    "from ipyleaflet import Map,AwesomeIcon, Marker\n",
    "\n",
    "busIcon = AwesomeIcon(\n",
    "    name='bus',\n",
    "    marker_color='green',\n",
    "    icon_color='white',\n",
    "    spin=False\n",
    ")\n",
    "\n",
    "startIcon = AwesomeIcon(\n",
    "    name=\"map-marker\",\n",
    "    marker_color=\"blue\",\n",
    "    icon_color=\"white\",\n",
    "    spin=False\n",
    ")\n",
    "\n",
    "destinationIcon = AwesomeIcon(\n",
    "    name=\"map-marker\",\n",
    "    marker_color=\"red\",\n",
    "    icon_color=\"white\",\n",
    "    spin=False\n",
    ")\n",
    "\n",
    "\n",
    "marker1 = Marker(icon=busIcon, location=(35.892736, 14.450925), draggable=False)\n",
    "marker2 = Marker(icon=startIcon, location=(35.895736, 14.450925), draggable=False)\n",
    "marker3 = Marker(icon=destinationIcon, location=(35.899736, 14.450925), draggable=False)\n",
    "\n",
    "# Create a map object centered at an example latitude and longitude\n",
    "map = Map(center=(35.892736, 14.450925), zoom=11)\n",
    "map.add(marker1)\n",
    "map.add(marker2)\n",
    "map.add(marker3)\n",
    "display(map)"
   ]
  }
 ],
 "metadata": {
  "kernelspec": {
   "display_name": "Thesis",
   "language": "python",
   "name": "python3"
  },
  "language_info": {
   "codemirror_mode": {
    "name": "ipython",
    "version": 3
   },
   "file_extension": ".py",
   "mimetype": "text/x-python",
   "name": "python",
   "nbconvert_exporter": "python",
   "pygments_lexer": "ipython3",
   "version": "3.11.7"
  }
 },
 "nbformat": 4,
 "nbformat_minor": 2
}
