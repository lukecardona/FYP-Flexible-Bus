{
 "cells": [
  {
   "cell_type": "markdown",
   "metadata": {},
   "source": [
    "<h2>Requesting Between Two Points</h2>"
   ]
  },
  {
   "cell_type": "code",
   "execution_count": 5,
   "metadata": {},
   "outputs": [
    {
     "name": "stdout",
     "output_type": "stream",
     "text": [
      "http://localhost:5000/route/v1/driving/14.4535735,35.9209566;14.4034303,35.8837824?overview=false\n",
      "{'code': 'Ok', 'routes': [{'legs': [{'steps': [], 'distance': 8893.5, 'duration': 702.9, 'summary': '', 'weight': 704.5}], 'distance': 8893.5, 'duration': 702.9, 'weight_name': 'routability', 'weight': 704.5}], 'waypoints': [{'hint': 'od8AgPDfAIAAAAAAKAAAAAAAAAB_AAAAAAAAAPUH10EAAAAABwWqQgAAAAAoAAAAAAAAAH8AAAAaAAAARovcAD0cJAJGi9wAPRwkAgAA7wWZaEfy', 'distance': 0, 'name': 'Triq Caravaggio', 'location': [14.453574, 35.920957]}, {'hint': '3IYAgP___38gAAAASwAAAAAAAAAAAAAAfrzYQDbwDEEAAAAAAAAAABAAAAAlAAAAAAAAAAAAAAAaAAAAcsfbAN2KIwJmx9sABosjAgAAzwSZaEfy', 'distance': 4.676407, 'name': '', 'location': [14.403442, 35.883741]}]}\n",
      "Distance: 8.8935 km\n"
     ]
    }
   ],
   "source": [
    "import requests\n",
    "\n",
    "# OSRM instance details\n",
    "osrm_host = \"localhost\"  # ROSRM server IP or hostname\n",
    "osrm_port = \"5000\"       # Port of OSRM server is listening on\n",
    "\n",
    "start_coords = \"14.4535735,35.9209566\"  \n",
    "end_coords = \"14.4034303,35.8837824\" #Random bus stops in Malta\n",
    "\n",
    "url = f\"http://{osrm_host}:{osrm_port}/route/v1/driving/{start_coords};{end_coords}?overview=false\"\n",
    "print(url)\n",
    "response = requests.get(url)\n",
    "\n",
    "# Parsing the response\n",
    "if response.status_code == 200:\n",
    "    data = response.json()\n",
    "    print(data)\n",
    "    distance = data['routes'][0]['distance']  # Distance in meters\n",
    "    print(f\"Distance: {distance/1000} km\")  # Convert meters to kilometers\n",
    "else:\n",
    "    print(\"Failed to get a response from the OSRM server\")"
   ]
  },
  {
   "cell_type": "markdown",
   "metadata": {},
   "source": [
    "<h2>Requesting Between Multiple Points</h2>"
   ]
  },
  {
   "cell_type": "code",
   "execution_count": 7,
   "metadata": {},
   "outputs": [
    {
     "name": "stdout",
     "output_type": "stream",
     "text": [
      "http://localhost:5000/route/v1/driving/14.4535735,35.9209566;14.5072541,35.8708978;14.4034303,35.8837824?overview=false\n",
      "{'code': 'Ok', 'routes': [{'legs': [{'steps': [], 'distance': 10043.4, 'duration': 753.5, 'summary': '', 'weight': 753.5}, {'steps': [], 'distance': 11069, 'duration': 781.5, 'summary': '', 'weight': 783.1}], 'distance': 21112.4, 'duration': 1535, 'weight_name': 'routability', 'weight': 1536.6}], 'waypoints': [{'hint': 'od8AgPDfAIAAAAAAKAAAAAAAAAB_AAAAAAAAAPUH10EAAAAABwWqQgAAAAAoAAAAAAAAAH8AAAAaAAAARovcAD0cJAJGi9wAPRwkAgAA7wWZaEfy', 'distance': 0, 'name': 'Triq Caravaggio', 'location': [14.453574, 35.920957]}, {'hint': '3QsAgI9sAIAGAAAACQAAAAAAAAAAAAAAyeAfQUNdQ0EAAAAAAAAAAAYAAAAJAAAAAAAAAAAAAAAaAAAANF3dALRYIwL2XN0AslgjAgAALwuZaEfy', 'distance': 5.603486, 'name': 'Triq Ħal Luqa', 'location': [14.507316, 35.8709]}, {'hint': '3IYAgP___38gAAAASwAAAAAAAAAAAAAAfrzYQDbwDEEAAAAAAAAAABAAAAAlAAAAAAAAAAAAAAAaAAAAcsfbAN2KIwJmx9sABosjAgAAzwSZaEfy', 'distance': 4.676407, 'name': '', 'location': [14.403442, 35.883741]}]}\n",
      "Distance: 21.1124 km\n"
     ]
    },
    {
     "ename": "",
     "evalue": "",
     "output_type": "error",
     "traceback": [
      "\u001b[1;31mThe Kernel crashed while executing code in the the current cell or a previous cell. Please review the code in the cell(s) to identify a possible cause of the failure. Click <a href='https://aka.ms/vscodeJupyterKernelCrash'>here</a> for more info. View Jupyter <a href='command:jupyter.viewOutput'>log</a> for further details."
     ]
    }
   ],
   "source": [
    "# OSRM instance details\n",
    "osrm_host = \"localhost\"  # ROSRM server IP or hostname\n",
    "osrm_port = \"5000\"       # Port of OSRM server is listening on\n",
    "\n",
    "start_coords = \"14.4535735,35.9209566\"  \n",
    "middle_coords = \"14.5072541,35.8708978\" #Longitudinal and latitudinal coordinates\n",
    "end_coords = \"14.4034303,35.8837824\" #Random bus stops in Malta\n",
    "\n",
    "url = f\"http://{osrm_host}:{osrm_port}/route/v1/driving/{start_coords};{middle_coords};{end_coords}?overview=false\"\n",
    "print(url)\n",
    "response = requests.get(url)\n",
    "\n",
    "# Parsing the response\n",
    "if response.status_code == 200:\n",
    "    data = response.json()\n",
    "    print(data)\n",
    "    distance = data['routes'][0]['distance']  # Distance in meters\n",
    "    print(f\"Distance: {distance/1000} km\")  # Convert meters to kilometers\n",
    "else:\n",
    "    print(\"Failed to get a response from the OSRM server\")"
   ]
  }
 ],
 "metadata": {
  "kernelspec": {
   "display_name": "Thesis",
   "language": "python",
   "name": "python3"
  },
  "language_info": {
   "codemirror_mode": {
    "name": "ipython",
    "version": 3
   },
   "file_extension": ".py",
   "mimetype": "text/x-python",
   "name": "python",
   "nbconvert_exporter": "python",
   "pygments_lexer": "ipython3",
   "version": "3.11.7"
  }
 },
 "nbformat": 4,
 "nbformat_minor": 2
}
