{
 "cells": [
  {
   "cell_type": "code",
   "execution_count": 34,
   "metadata": {},
   "outputs": [],
   "source": [
    "%run ../routeLinkedList.ipynb\n",
    "%run ../classesDefinations.ipynb"
   ]
  },
  {
   "cell_type": "markdown",
   "metadata": {},
   "source": [
    "<h2>Creating Test Cases </h2>"
   ]
  },
  {
   "cell_type": "code",
   "execution_count": 35,
   "metadata": {},
   "outputs": [
    {
     "name": "stdout",
     "output_type": "stream",
     "text": [
      "Req_Id: 1, lat: 1, long: 1, True\n"
     ]
    }
   ],
   "source": [
    "cords1 = Request_Cords(1,1,1,True)\n",
    "cords2 = Request_Cords(2,2,1,False)\n",
    "cords3 = Request_Cords(3,3,2,True)\n",
    "cords4 = Request_Cords(4,4,2,False)\n",
    "cords5 = Request_Cords(5,5,3,True)\n",
    "cords6 = Request_Cords(6,6,3,False)\n",
    "cords7 = Request_Cords(7,7,4,True)\n",
    "\n",
    "print(cords1)"
   ]
  },
  {
   "cell_type": "markdown",
   "metadata": {},
   "source": [
    "<h2> Testing of Linked List </h2>"
   ]
  },
  {
   "cell_type": "code",
   "execution_count": 36,
   "metadata": {},
   "outputs": [
    {
     "name": "stdout",
     "output_type": "stream",
     "text": [
      "Node Data\n",
      "Req Id: 3 -> Req_Id: 3, lat: 5, long: 5, True\n",
      "Req Id: 2 -> Req_Id: 2, lat: 3, long: 3, True\n",
      "Req Id: 4 -> Req_Id: 4, lat: 7, long: 7, True\n",
      "Req Id: 1 -> Req_Id: 1, lat: 1, long: 1, True\n",
      "Req Id: 1 -> Req_Id: 1, lat: 2, long: 2, False\n",
      "Req Id: 2 -> Req_Id: 2, lat: 4, long: 4, False\n",
      "Req Id: 3 -> Req_Id: 3, lat: 6, long: 6, False\n",
      "Remove Node at Index 1\n",
      "\n",
      "Linked list after removing a node:\n",
      "Req Id: 3 -> Req_Id: 3, lat: 5, long: 5, True\n",
      "Req Id: 4 -> Req_Id: 4, lat: 7, long: 7, True\n",
      "Req Id: 2 -> Req_Id: 2, lat: 4, long: 4, False\n",
      "Req Id: 3 -> Req_Id: 3, lat: 6, long: 6, False\n",
      "\n",
      "Size of linked list : 4\n"
     ]
    }
   ],
   "source": [
    "# create a new linked list\n",
    "llist = RouteLinkedList()\n",
    " \n",
    "# add nodes to the linked list\n",
    "llist.insertAtEnd(cords1) #[1,True]\n",
    "llist.insertAtEnd(cords2) #[[1,True],[1,False]]\n",
    "llist.insertAtStart(cords3) #[[2,True],[1,True],[1,False]]\n",
    "llist.insertAtEnd(cords4) #[[2,True],[1,True],[1,False],[2,False]]\n",
    "llist.insertAtStart(cords5) #[[3,True],[2,True],[1,True],[1,False],[2,False]]\n",
    "llist.insertAtEnd(cords6) #[[3,True],[2,True],[1,True],[1,False],[2,False],[3,False]]\n",
    "llist.insertAtIndex(cords7, 2) #[[3,True],[2,True],[4,True],[1,True],[1,False],[2,False],[3,False]]\n",
    " \n",
    "# print the linked list\n",
    "print(\"Node Data\")\n",
    "llist.printList()\n",
    " \n",
    "print(\"Remove Node at Index 1\")\n",
    "llist.deleteNode(cords1) #[[3,True],[2,True],[4,True],[1,False],[2,False],[3,False]]\n",
    "llist.deleteNode(cords2) #[[3,True],[2,True],[4,True],[2,False],[3,False]]\n",
    "llist.deleteNode(cords3) #[[3,True],[4,True],[2,False],[3,False]]\n",
    " \n",
    "# print the linked list again\n",
    "print(\"\\nLinked list after removing a node:\")\n",
    "llist.printList()\n",
    " \n",
    "print(\"\\nSize of linked list :\", end=\" \")\n",
    "print(llist.getSize()) #4"
   ]
  },
  {
   "cell_type": "code",
   "execution_count": 37,
   "metadata": {},
   "outputs": [
    {
     "name": "stdout",
     "output_type": "stream",
     "text": [
      "\n",
      "Swap Nodes\n",
      "0 3\n",
      "Req Id: 3 -> Req_Id: 3, lat: 6, long: 6, False\n",
      "Req Id: 4 -> Req_Id: 4, lat: 7, long: 7, True\n",
      "Req Id: 2 -> Req_Id: 2, lat: 4, long: 4, False\n",
      "Req Id: 3 -> Req_Id: 3, lat: 5, long: 5, True\n"
     ]
    }
   ],
   "source": [
    "#Swap Nodes\n",
    "print(\"\\nSwap Nodes\")\n",
    "llist.switchNodes((cords5),(cords6))\n",
    "\n",
    "llist.printList() #[[3,True],[4,True],[2,False],[3,False]]"
   ]
  }
 ],
 "metadata": {
  "kernelspec": {
   "display_name": "FYP-EVRPTW",
   "language": "python",
   "name": "python3"
  },
  "language_info": {
   "codemirror_mode": {
    "name": "ipython",
    "version": 3
   },
   "file_extension": ".py",
   "mimetype": "text/x-python",
   "name": "python",
   "nbconvert_exporter": "python",
   "pygments_lexer": "ipython3",
   "version": "3.11.7"
  }
 },
 "nbformat": 4,
 "nbformat_minor": 2
}
