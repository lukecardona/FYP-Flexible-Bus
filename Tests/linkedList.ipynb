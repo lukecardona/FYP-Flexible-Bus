{
 "cells": [
  {
   "cell_type": "code",
   "execution_count": 30,
   "metadata": {},
   "outputs": [],
   "source": [
    "%run ../routeLinkedList.ipynb"
   ]
  },
  {
   "cell_type": "markdown",
   "metadata": {},
   "source": [
    "<h2> Testing of Linked List </h2>"
   ]
  },
  {
   "cell_type": "code",
   "execution_count": 31,
   "metadata": {},
   "outputs": [
    {
     "name": "stdout",
     "output_type": "stream",
     "text": [
      "Node Data\n",
      "Req Id 3 -> c\n",
      "Req Id 2 -> c\n",
      "Req Id 4 -> g\n",
      "Req Id 1 -> a\n",
      "Req Id 1 -> b\n",
      "Req Id 2 -> d\n",
      "Req Id 3 -> d\n",
      "Remove Node at Index 1\n",
      "\n",
      "Linked list after removing a node:\n",
      "Req Id 3 -> c\n",
      "Req Id 4 -> g\n",
      "Req Id 2 -> d\n",
      "Req Id 3 -> d\n",
      "\n",
      "Size of linked list : 4\n"
     ]
    }
   ],
   "source": [
    "# create a new linked list\n",
    "llist = RouteLinkedList()\n",
    " \n",
    "# add nodes to the linked list\n",
    "llist.insertAtEnd('a',1)\n",
    "llist.insertAtEnd('b',1)\n",
    "llist.insertAtStart('c',2)\n",
    "llist.insertAtEnd('d',2)\n",
    "llist.insertAtStart('c',3)\n",
    "llist.insertAtEnd('d',3)\n",
    "llist.insertAtIndex('g', 4, 2)\n",
    " \n",
    "# print the linked list\n",
    "print(\"Node Data\")\n",
    "llist.printList()\n",
    " \n",
    "\n",
    "print(\"Remove Node at Index 1\")\n",
    "llist.deleteNode('a',1)\n",
    "llist.deleteNode('b',1)\n",
    "llist.deleteNode('c',2)\n",
    " \n",
    "# print the linked list again\n",
    "print(\"\\nLinked list after removing a node:\")\n",
    "llist.printList()\n",
    " \n",
    "print(\"\\nSize of linked list :\", end=\" \")\n",
    "print(llist.getSize())"
   ]
  },
  {
   "cell_type": "code",
   "execution_count": 33,
   "metadata": {},
   "outputs": [
    {
     "name": "stdout",
     "output_type": "stream",
     "text": [
      "\n",
      "Swap Nodes\n",
      "0 1\n",
      "Req Id 3 -> d\n",
      "Req Id 3 -> c\n",
      "Req Id 2 -> d\n",
      "Req Id 4 -> g\n"
     ]
    }
   ],
   "source": [
    "#Swap Nodes\n",
    "print(\"\\nSwap Nodes\")\n",
    "llist.switchNodes((3,\"c\"),(3,\"d\"))\n",
    "\n",
    "llist.printList()"
   ]
  }
 ],
 "metadata": {
  "kernelspec": {
   "display_name": "FYP-EVRPTW",
   "language": "python",
   "name": "python3"
  },
  "language_info": {
   "codemirror_mode": {
    "name": "ipython",
    "version": 3
   },
   "file_extension": ".py",
   "mimetype": "text/x-python",
   "name": "python",
   "nbconvert_exporter": "python",
   "pygments_lexer": "ipython3",
   "version": "3.10.13"
  }
 },
 "nbformat": 4,
 "nbformat_minor": 2
}
