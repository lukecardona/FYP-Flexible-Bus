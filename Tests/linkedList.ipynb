{
 "cells": [
  {
   "cell_type": "code",
   "execution_count": 1,
   "metadata": {},
   "outputs": [],
   "source": [
    "%run ../routeLinkedList.ipynb"
   ]
  },
  {
   "cell_type": "markdown",
   "metadata": {},
   "source": [
    "<h2> Testing of Linked List </h2>"
   ]
  },
  {
   "cell_type": "code",
   "execution_count": 2,
   "metadata": {},
   "outputs": [
    {
     "ename": "TypeError",
     "evalue": "RouteLinkedList.insertAtEnd() takes 2 positional arguments but 3 were given",
     "output_type": "error",
     "traceback": [
      "\u001b[1;31m---------------------------------------------------------------------------\u001b[0m",
      "\u001b[1;31mTypeError\u001b[0m                                 Traceback (most recent call last)",
      "Cell \u001b[1;32mIn[2], line 5\u001b[0m\n\u001b[0;32m      2\u001b[0m llist \u001b[38;5;241m=\u001b[39m RouteLinkedList()\n\u001b[0;32m      4\u001b[0m \u001b[38;5;66;03m# add nodes to the linked list\u001b[39;00m\n\u001b[1;32m----> 5\u001b[0m \u001b[43mllist\u001b[49m\u001b[38;5;241;43m.\u001b[39;49m\u001b[43minsertAtEnd\u001b[49m\u001b[43m(\u001b[49m\u001b[38;5;124;43m'\u001b[39;49m\u001b[38;5;124;43ma\u001b[39;49m\u001b[38;5;124;43m'\u001b[39;49m\u001b[43m,\u001b[49m\u001b[38;5;241;43m1\u001b[39;49m\u001b[43m)\u001b[49m\n\u001b[0;32m      6\u001b[0m llist\u001b[38;5;241m.\u001b[39minsertAtEnd(\u001b[38;5;124m'\u001b[39m\u001b[38;5;124mb\u001b[39m\u001b[38;5;124m'\u001b[39m,\u001b[38;5;241m1\u001b[39m)\n\u001b[0;32m      7\u001b[0m llist\u001b[38;5;241m.\u001b[39minsertAtStart(\u001b[38;5;124m'\u001b[39m\u001b[38;5;124mc\u001b[39m\u001b[38;5;124m'\u001b[39m,\u001b[38;5;241m2\u001b[39m)\n",
      "\u001b[1;31mTypeError\u001b[0m: RouteLinkedList.insertAtEnd() takes 2 positional arguments but 3 were given"
     ]
    }
   ],
   "source": [
    "# create a new linked list\n",
    "llist = RouteLinkedList()\n",
    " \n",
    "# add nodes to the linked list\n",
    "llist.insertAtEnd('a',)\n",
    "llist.insertAtEnd('b',)\n",
    "llist.insertAtStart('c',)\n",
    "llist.insertAtEnd('d',)\n",
    "llist.insertAtStart('c',)\n",
    "llist.insertAtEnd('d',)\n",
    "llist.insertAtIndex('g', 2)\n",
    " \n",
    "# print the linked list\n",
    "print(\"Node Data\")\n",
    "llist.printList()\n",
    " \n",
    "\n",
    "print(\"Remove Node at Index 1\")\n",
    "llist.deleteNode('a',1)\n",
    "llist.deleteNode('b',1)\n",
    "llist.deleteNode('c',2)\n",
    " \n",
    "# print the linked list again\n",
    "print(\"\\nLinked list after removing a node:\")\n",
    "llist.printList()\n",
    " \n",
    "print(\"\\nSize of linked list :\", end=\" \")\n",
    "print(llist.getSize())"
   ]
  },
  {
   "cell_type": "code",
   "execution_count": null,
   "metadata": {},
   "outputs": [
    {
     "name": "stdout",
     "output_type": "stream",
     "text": [
      "\n",
      "Swap Nodes\n",
      "0 1\n",
      "Req Id 3 -> d\n",
      "Req Id 3 -> c\n",
      "Req Id 2 -> d\n",
      "Req Id 4 -> g\n"
     ]
    }
   ],
   "source": [
    "#Swap Nodes\n",
    "print(\"\\nSwap Nodes\")\n",
    "llist.switchNodes((3,\"c\"),(3,\"d\"))\n",
    "\n",
    "llist.printList()"
   ]
  }
 ],
 "metadata": {
  "kernelspec": {
   "display_name": "FYP-EVRPTW",
   "language": "python",
   "name": "python3"
  },
  "language_info": {
   "codemirror_mode": {
    "name": "ipython",
    "version": 3
   },
   "file_extension": ".py",
   "mimetype": "text/x-python",
   "name": "python",
   "nbconvert_exporter": "python",
   "pygments_lexer": "ipython3",
   "version": "3.11.7"
  }
 },
 "nbformat": 4,
 "nbformat_minor": 2
}
