{
 "cells": [
  {
   "cell_type": "code",
   "execution_count": 5,
   "metadata": {},
   "outputs": [],
   "source": [
    "#Run routeLinkedList.ipynb\n",
    "%run routeLinkedList.ipynb"
   ]
  },
  {
   "cell_type": "code",
   "execution_count": 6,
   "metadata": {},
   "outputs": [],
   "source": [
    "REQUESTSTATES = {\n",
    "    \"WAITING\":0,\n",
    "    \"SCHEDULED\":1,\n",
    "    \"ONGOING\":2,\n",
    "    \"PREDICTED\":3,\n",
    "    \"COMPLETED\":4,\n",
    "    \"REJECTED\":5\n",
    "    }\n",
    "\n",
    "VEHICLESTATES = {\n",
    "    \"IDLE\":0,\n",
    "    \"MOVING\":1,\n",
    "    \"MOVINGFULL\":2\n",
    "}"
   ]
  },
  {
   "cell_type": "code",
   "execution_count": 7,
   "metadata": {},
   "outputs": [],
   "source": [
    "class Request:\n",
    "    def __init__(self, passengerAmount, origin, destination, time):\n",
    "        self.request_id = id(self)\n",
    "        self.passengerAmount = passengerAmount\n",
    "        self.origin = origin\n",
    "        self.destination = destination\n",
    "        self.timeOfRequest = time\n",
    "\n",
    "    def __str__(self):\n",
    "        return \"Request: id: {}, passengerAmount: {}, origin: {}, destination: {}, time: {}\".format(self.request_id, self.passengerAmount, self.origin, self.destination, self.time)\n",
    "    \n",
    "    def __repr__(self):\n",
    "        return self.__str__()\n",
    "    \n",
    "    def __eq__(self, other):\n",
    "        return self.request_id == other.request_id\n",
    "    \n",
    "    #Change state of request\n",
    "    def changeState(self, state):\n",
    "        self.state = REQUESTSTATES[state]\n",
    "\n",
    "    #Getters\n",
    "    def getId(self):\n",
    "        return self.request_id\n",
    "    \n",
    "    def getPassengerAmount(self):\n",
    "        return self.passengerAmount\n",
    "    \n",
    "    def getOrigin(self):\n",
    "        return self.origin\n",
    "    \n",
    "    def getDestination(self):\n",
    "        return self.destination\n",
    "    \n",
    "    def getTime(self):\n",
    "        return self.timeOfRequest\n",
    "    \n",
    "    def getState(self):\n",
    "        return self.state"
   ]
  },
  {
   "cell_type": "code",
   "execution_count": 8,
   "metadata": {},
   "outputs": [],
   "source": [
    "class Routes:\n",
    "    def __init__(self):\n",
    "        self.routeList = RouteLinkedList()\n",
    "\n",
    "    def addRequestToRoute(self, request, indexOrigin, indexDestination):\n",
    "        self.routeList.insertAtIndex(request.origin, request.id, indexOrigin)\n",
    "        self.routeList.insertAtIndex(request.destination, request.id, indexDestination)\n",
    "\n",
    "    def arrivedAtDestionation(self):\n",
    "        self.routeList.deleteAtStart()        "
   ]
  },
  {
   "cell_type": "code",
   "execution_count": 9,
   "metadata": {},
   "outputs": [],
   "source": [
    "class Vehicle:\n",
    "    def __init__(self, vehicle_id, capacity, origin):\n",
    "        self.vehicle_id = vehicle_id\n",
    "        self.capacity = capacity\n",
    "        self.currentAmountOfPassengers = 0\n",
    "        self.currentPosition = origin\n",
    "        self.state = VEHICLESTATES[\"IDLE\"]\n",
    "        self.route = Routes()\n",
    "\n",
    "    def __str__(self):\n",
    "        return \"Vehicle: id: {}, capacity: {}, currentPosition: {}, route: {}\".format(self.vehicle_id, self.capacity, self.currentPosition, self.route.getSize())\n",
    "    \n",
    "    def __repr__(self):\n",
    "        return self.__str__()\n",
    "    \n",
    "    def __eq__(self, other):\n",
    "        return self.vehicle_id == other.vehicle_id\n",
    "    \n",
    "    def addRequestToRoute(self, request, indexOrigin, indexDestination):\n",
    "    \n",
    "        #Check Passengers Limit\n",
    "        if request.getPassengerAmount() + self.currentAmountOfPassengers > self.capacity:\n",
    "            print(\"Request exceeds capacity of vehicle\")\n",
    "        else:\n",
    "            #If vehicle has space add request to the route at the specified indexes\n",
    "            self.route.addRequestToRoute(request, indexOrigin, indexDestination)\n",
    "            self.currentAmountOfPassengers += request.getPassengerAmount()\n",
    "    \n",
    "    def arrivedAtNextStop(self):\n",
    "        self.route.deleteNode()"
   ]
  },
  {
   "cell_type": "code",
   "execution_count": 10,
   "metadata": {},
   "outputs": [],
   "source": [
    "Vehicle1 = Vehicle(1, 4, 1)"
   ]
  }
 ],
 "metadata": {
  "kernelspec": {
   "display_name": "FYP-EVRPTW",
   "language": "python",
   "name": "python3"
  },
  "language_info": {
   "codemirror_mode": {
    "name": "ipython",
    "version": 3
   },
   "file_extension": ".py",
   "mimetype": "text/x-python",
   "name": "python",
   "nbconvert_exporter": "python",
   "pygments_lexer": "ipython3",
   "version": "3.10.13"
  }
 },
 "nbformat": 4,
 "nbformat_minor": 2
}
