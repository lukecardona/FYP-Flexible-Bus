{
 "cells": [
  {
   "cell_type": "code",
   "execution_count": 5,
   "metadata": {},
   "outputs": [],
   "source": [
    "# %run routeLinkedList.ipynb\n",
    "%run ../routeLinkedList.ipynb #Uncomment when testing"
   ]
  },
  {
   "cell_type": "code",
   "execution_count": 6,
   "metadata": {},
   "outputs": [],
   "source": [
    "class Cords:\n",
    "    def __init__(self, latidude, longitude):\n",
    "        self.latidude = latidude\n",
    "        self.longitude = longitude\n",
    "    \n",
    "    def __str__(self):\n",
    "        return \"lat: \"+ str(self.latidude) + \",long: \" + str(self.longitude)\n",
    "    \n",
    "    def getLatitude(self):\n",
    "        return self.latidude\n",
    "    \n",
    "    def getLongitude(self):\n",
    "        return self.longitude"
   ]
  },
  {
   "cell_type": "code",
   "execution_count": 7,
   "metadata": {},
   "outputs": [],
   "source": [
    "class Request_Cords(Cords):\n",
    "    def __init__(self, latidude, longitude, request_id, start):\n",
    "        super().__init__(latidude, longitude)\n",
    "        self.start = start\n",
    "        self.request_id = request_id\n",
    "    \n",
    "    def __str__(self):\n",
    "        return \"Req_Id: \" + str(self.request_id) + \", lat: \"+ str(self.latidude) + \", long: \" + str(self.longitude) + \", \" + str(self.start)\n",
    "    \n",
    "    def __eq__(self, requestCord):\n",
    "        if self.request_id == requestCord.getRequestId() and self.start == requestCord.getStart():\n",
    "            return True\n",
    "        else:\n",
    "            return False\n",
    "        \n",
    "    def getLatitude(self):\n",
    "        return self.latidude\n",
    "    \n",
    "    def getLongitude(self):\n",
    "        return self.longitude\n",
    "    \n",
    "    def getStart(self):\n",
    "        return self.start\n",
    "    \n",
    "    def getRequestId(self):\n",
    "        return self.request_id"
   ]
  }
 ],
 "metadata": {
  "kernelspec": {
   "display_name": "Thesis",
   "language": "python",
   "name": "python3"
  },
  "language_info": {
   "codemirror_mode": {
    "name": "ipython",
    "version": 3
   },
   "file_extension": ".py",
   "mimetype": "text/x-python",
   "name": "python",
   "nbconvert_exporter": "python",
   "pygments_lexer": "ipython3",
   "version": "3.11.7"
  }
 },
 "nbformat": 4,
 "nbformat_minor": 2
}
