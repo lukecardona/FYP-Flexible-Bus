{
 "cells": [
  {
   "cell_type": "code",
   "execution_count": 1,
   "metadata": {},
   "outputs": [],
   "source": [
    "REQUESTSTATES = {\n",
    "    \"WAITING\":0,\n",
    "    \"SCHEDULED\":1,\n",
    "    \"ONGOING\":2,\n",
    "    \"PREDICTED\":3,\n",
    "    \"COMPLETED\":4,\n",
    "    \"REJECTED\":5\n",
    "    }\n",
    "\n",
    "VEHICLESTATES = {\n",
    "    \"IDLE\":0,\n",
    "    \"MOVING\":1,\n",
    "    \"MOVINGFULL\":2\n",
    "}"
   ]
  },
  {
   "cell_type": "code",
   "execution_count": 2,
   "metadata": {},
   "outputs": [],
   "source": [
    "class Request:\n",
    "    def __init__(self, passengerAmount, origin, destination, time):\n",
    "        self.request_id = id(self)\n",
    "        self.passengerAmount = passengerAmount\n",
    "        self.origin = origin\n",
    "        self.destination = destination\n",
    "        self.timeOfRequest = time\n",
    "\n",
    "    def __str__(self):\n",
    "        return \"Request: id: {}, passengerAmount: {}, origin: {}, destination: {}, time: {}\".format(self.request_id, self.passengerAmount, self.origin, self.destination, self.time)\n",
    "    \n",
    "    def __repr__(self):\n",
    "        return self.__str__()\n",
    "    \n",
    "    def __eq__(self, other):\n",
    "        return self.request_id == other.request_id\n",
    "    \n",
    "    #Change state of request\n",
    "    def changeState(self, state):\n",
    "        self.state = REQUESTSTATES[state]\n",
    "\n",
    "    #Getters\n",
    "    def getId(self):\n",
    "        return self.request_id\n",
    "    \n",
    "    def getPassengerAmount(self):\n",
    "        return self.passengerAmount\n",
    "    \n",
    "    def getOrigin(self):\n",
    "        return self.origin\n",
    "    \n",
    "    def getDestination(self):\n",
    "        return self.destination\n",
    "    \n",
    "    def getTime(self):\n",
    "        return self.timeOfRequest\n",
    "    \n",
    "    def getState(self):\n",
    "        return self.state"
   ]
  },
  {
   "cell_type": "code",
   "execution_count": 3,
   "metadata": {},
   "outputs": [
    {
     "ename": "SyntaxError",
     "evalue": "invalid syntax (3782570980.py, line 2)",
     "output_type": "error",
     "traceback": [
      "\u001b[1;36m  Cell \u001b[1;32mIn[3], line 2\u001b[1;36m\u001b[0m\n\u001b[1;33m    def _\u001b[0m\n\u001b[1;37m         ^\u001b[0m\n\u001b[1;31mSyntaxError\u001b[0m\u001b[1;31m:\u001b[0m invalid syntax\n"
     ]
    }
   ],
   "source": [
    "class Routes:\n",
    "    def __init__(self):\n",
    "        self.route "
   ]
  },
  {
   "cell_type": "code",
   "execution_count": null,
   "metadata": {},
   "outputs": [],
   "source": [
    "class Vehicle:\n",
    "    def __init__(self, vehicle_id, capacity, origin):\n",
    "        self.vehicle_id = vehicle_id\n",
    "        self.capacity = capacity\n",
    "        self.currentPosition = origin\n",
    "        self.route = None\n",
    "    \n",
    "    def addToRoute(self, request):\n",
    "        self.route.append(request)"
   ]
  },
  {
   "cell_type": "code",
   "execution_count": null,
   "metadata": {},
   "outputs": [],
   "source": []
  }
 ],
 "metadata": {
  "kernelspec": {
   "display_name": "FYP-EVRPTW",
   "language": "python",
   "name": "python3"
  },
  "language_info": {
   "codemirror_mode": {
    "name": "ipython",
    "version": 3
   },
   "file_extension": ".py",
   "mimetype": "text/x-python",
   "name": "python",
   "nbconvert_exporter": "python",
   "pygments_lexer": "ipython3",
   "version": "3.10.13"
  }
 },
 "nbformat": 4,
 "nbformat_minor": 2
}
