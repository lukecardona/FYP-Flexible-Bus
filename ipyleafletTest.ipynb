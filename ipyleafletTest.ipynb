{
 "cells": [
  {
   "cell_type": "code",
   "execution_count": 21,
   "metadata": {},
   "outputs": [
    {
     "data": {
      "application/vnd.jupyter.widget-view+json": {
       "model_id": "2fa1ff239981403a8edf8ca13ddc02cb",
       "version_major": 2,
       "version_minor": 0
      },
      "text/plain": [
       "Map(center=[48.8566, 2.3522], controls=(ZoomControl(options=['position', 'zoom_in_text', 'zoom_in_title', 'zoo…"
      ]
     },
     "metadata": {},
     "output_type": "display_data"
    }
   ],
   "source": [
    "import ipyleaflet\n",
    "from ipyleaflet import Map,AwesomeIcon,Marker,Polyline\n",
    "\n",
    "m = Map(center=(48.8566, 2.3522), zoom=8)\n",
    "\n",
    "icon = AwesomeIcon(\n",
    "    name='bus',\n",
    "    marker_color='green',\n",
    "    icon_color='black',\n",
    "    spin=False\n",
    ")\n",
    "\n",
    "icon2 = AwesomeIcon(\n",
    "    name='bus',\n",
    "    marker_color='red',\n",
    "    icon_color='black',\n",
    "    spin=False\n",
    ")\n",
    "\n",
    "icon3 = AwesomeIcon(\n",
    "    name='bus',\n",
    "    marker_color='blue',\n",
    "    icon_color='black',\n",
    "    spin=False\n",
    ")\n",
    "\n",
    "display(m)\n",
    "marker = Marker(icon=icon, location=(48.8566, 2.3522))\n",
    "marker2 = Marker(icon=icon2, location=(48.8568, 2.3522))\n",
    "marker3 = Marker(icon=icon3, location=(48.8572, 2.3522))\n",
    "\n",
    "m.add_layer(map)\n",
    "m.add_layer(marker)\n",
    "m.add_layer(marker2)\n",
    "m.add_layer(marker3)\n",
    "\n",
    "#Loop through all the layers and remove all layers except the tile layer\n"
   ]
  },
  {
   "cell_type": "code",
   "execution_count": 45,
   "metadata": {},
   "outputs": [
    {
     "data": {
      "application/vnd.jupyter.widget-view+json": {
       "model_id": "e2f8698af1ee4b5e80f841c59432e3f1",
       "version_major": 2,
       "version_minor": 0
      },
      "text/plain": [
       "Map(center=[35.908915, 14.442416], controls=(ZoomControl(options=['position', 'zoom_in_text', 'zoom_in_title',…"
      ]
     },
     "metadata": {},
     "output_type": "display_data"
    }
   ],
   "source": [
    "map2 = Map(center=[35.908915,14.442416], zoom=11)\n",
    "display(map2)"
   ]
  }
 ],
 "metadata": {
  "kernelspec": {
   "display_name": "Thesis",
   "language": "python",
   "name": "python3"
  },
  "language_info": {
   "codemirror_mode": {
    "name": "ipython",
    "version": 3
   },
   "file_extension": ".py",
   "mimetype": "text/x-python",
   "name": "python",
   "nbconvert_exporter": "python",
   "pygments_lexer": "ipython3",
   "version": "3.11.7"
  }
 },
 "nbformat": 4,
 "nbformat_minor": 2
}
