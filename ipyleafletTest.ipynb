{
 "cells": [
  {
   "cell_type": "code",
   "execution_count": 1,
   "metadata": {},
   "outputs": [
    {
     "data": {
      "application/vnd.jupyter.widget-view+json": {
       "model_id": "120008e5a999494cbf81eef1b1c36e07",
       "version_major": 2,
       "version_minor": 0
      },
      "text/plain": [
       "Map(center=[48.8566, 2.3522], controls=(ZoomControl(options=['position', 'zoom_in_text', 'zoom_in_title', 'zoo…"
      ]
     },
     "metadata": {},
     "output_type": "display_data"
    }
   ],
   "source": [
    "import ipyleaflet\n",
    "from ipyleaflet import Map,AwesomeIcon,Marker,Polyline\n",
    "\n",
    "m = Map(center=(48.8566, 2.3522), zoom=8)\n",
    "\n",
    "icon = AwesomeIcon(\n",
    "    name='bus',\n",
    "    marker_color='green',\n",
    "    icon_color='black',\n",
    "    spin=False\n",
    ")\n",
    "\n",
    "icon2 = AwesomeIcon(\n",
    "    name='bus',\n",
    "    marker_color='red',\n",
    "    icon_color='black',\n",
    "    spin=False\n",
    ")\n",
    "\n",
    "icon3 = AwesomeIcon(\n",
    "    name='bus',\n",
    "    marker_color='blue',\n",
    "    icon_color='black',\n",
    "    spin=False\n",
    ")\n",
    "\n",
    "display(m)\n",
    "marker = Marker(icon=icon, location=(48.8566, 2.3522))\n",
    "marker2 = Marker(icon=icon2, location=(48.8568, 2.3522))\n",
    "marker3 = Marker(icon=icon3, location=(48.8572, 2.3522))\n",
    "\n",
    "m.add_layer(map)\n",
    "m.add_layer(marker)\n",
    "m.add_layer(marker2)\n",
    "m.add_layer(marker3)\n",
    "\n",
    "#Loop through all the layers and remove all layers except the tile layer\n"
   ]
  },
  {
   "cell_type": "code",
   "execution_count": 3,
   "metadata": {},
   "outputs": [
    {
     "name": "stdout",
     "output_type": "stream",
     "text": [
      "Non-dominated solutions: [{'objective1': 1, 'objective2': 2, 'objective3': 3}]\n"
     ]
    },
    {
     "ename": "",
     "evalue": "",
     "output_type": "error",
     "traceback": [
      "\u001b[1;31mThe Kernel crashed while executing code in the current cell or a previous cell. \n",
      "\u001b[1;31mPlease review the code in the cell(s) to identify a possible cause of the failure. \n",
      "\u001b[1;31mClick <a href='https://aka.ms/vscodeJupyterKernelCrash'>here</a> for more info. \n",
      "\u001b[1;31mView Jupyter <a href='command:jupyter.viewOutput'>log</a> for further details."
     ]
    }
   ],
   "source": [
    "def dominates(solution1, solution2):\n",
    "    better_in_one = False\n",
    "    for objective in solution1:\n",
    "        if solution1[objective] > solution2[objective]:  # Assuming lower values are better.\n",
    "            return False  # solution1 is worse in at least one objective.\n",
    "        elif solution1[objective] < solution2[objective]:\n",
    "            better_in_one = True  # solution1 is better in at least one objective.\n",
    "    return better_in_one\n",
    "\n",
    "def find_non_dominated_solutions(solutions):\n",
    "    non_dominated = []\n",
    "    for i, solution1 in enumerate(solutions):\n",
    "        dominated = False\n",
    "        for j, solution2 in enumerate(solutions):\n",
    "            if i != j and dominates(solution2, solution1):\n",
    "                dominated = True\n",
    "                break\n",
    "        if not dominated:\n",
    "            non_dominated.append(solution1)\n",
    "    return non_dominated\n",
    "\n",
    "# Example usage\n",
    "solutions = [\n",
    "    {'objective1': 1, 'objective2': 2, 'objective3': 3},\n",
    "    {'objective1': 1, 'objective2': 2, \"objective3\": 4},\n",
    "    {'objective1': 1, 'objective2': 4, \"objective3\": 3},\n",
    "    {'objective1': 3, 'objective2': 5, \"objective3\": 5},\n",
    "]\n",
    "\n",
    "non_dominated_solutions = find_non_dominated_solutions(solutions)\n",
    "print(\"Non-dominated solutions:\", non_dominated_solutions)"
   ]
  }
 ],
 "metadata": {
  "kernelspec": {
   "display_name": "Thesis",
   "language": "python",
   "name": "python3"
  },
  "language_info": {
   "codemirror_mode": {
    "name": "ipython",
    "version": 3
   },
   "file_extension": ".py",
   "mimetype": "text/x-python",
   "name": "python",
   "nbconvert_exporter": "python",
   "pygments_lexer": "ipython3",
   "version": "3.11.7"
  }
 },
 "nbformat": 4,
 "nbformat_minor": 2
}
